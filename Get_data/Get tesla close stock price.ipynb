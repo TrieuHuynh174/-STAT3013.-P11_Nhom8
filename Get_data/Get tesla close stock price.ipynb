{
 "cells": [
  {
   "cell_type": "code",
   "execution_count": 1,
   "id": "57fa10c1-60c7-4a25-85cd-e7725e4a29c5",
   "metadata": {},
   "outputs": [
    {
     "name": "stderr",
     "output_type": "stream",
     "text": [
      "[*********************100%***********************]  1 of 1 completed"
     ]
    },
    {
     "name": "stdout",
     "output_type": "stream",
     "text": [
      "\n",
      "Selected 'Close' and 'Volume' column data:\n",
      "                  Close     Volume\n",
      "Date                             \n",
      "2019-01-02   20.674667  174879000\n",
      "2019-01-03   20.024000  104478000\n",
      "2019-01-04   21.179333  110911500\n",
      "2019-01-07   22.330667  113268000\n",
      "2019-01-08   22.356667  105127500\n",
      "...                ...        ...\n",
      "2024-10-25  269.190002  161611900\n",
      "2024-10-28  262.510010  107653600\n",
      "2024-10-29  259.519989   80521800\n",
      "2024-10-30  257.549988   53993600\n",
      "2024-10-31  249.850006   66575300\n",
      "\n",
      "[1469 rows x 2 columns]\n",
      "\n",
      "Data has been saved to 'Tesla_Close_2019_2024.csv'\n"
     ]
    },
    {
     "name": "stderr",
     "output_type": "stream",
     "text": [
      "\n"
     ]
    }
   ],
   "source": [
    "import yfinance as yf\n",
    "import pandas as pd\n",
    "import numpy as np\n",
    "import matplotlib.pyplot as plt\n",
    "from collections import Counter\n",
    "\n",
    "# Step 1: Download data for the past 5 years up to November 1, 2024\n",
    "data = yf.download(\"TSLA\", start=\"2019-01-01\", end=\"2024-11-01\", interval=\"1d\")\n",
    "\n",
    "# Step 2: Select the 'Close' columns\n",
    "selected_columns = data[['Close','Volume']]\n",
    "print(\"\\nSelected 'Close' and 'Volume' column data:\\n\", selected_columns)\n",
    "\n",
    "# Step 3: Export 'Close' and 'Volume' column data to CSV\n",
    "selected_columns.to_csv(\"Tesla_Close_2019_2024.csv\", index=True)\n",
    "print(\"\\nData has been saved to 'Tesla_Close_2019_2024.csv'\")"
   ]
  },
  {
   "cell_type": "code",
   "execution_count": null,
   "id": "965e4f65-15ba-4aff-84e9-9514f348912a",
   "metadata": {},
   "outputs": [],
   "source": []
  }
 ],
 "metadata": {
  "kernelspec": {
   "display_name": "Python 3 (ipykernel)",
   "language": "python",
   "name": "python3"
  },
  "language_info": {
   "codemirror_mode": {
    "name": "ipython",
    "version": 3
   },
   "file_extension": ".py",
   "mimetype": "text/x-python",
   "name": "python",
   "nbconvert_exporter": "python",
   "pygments_lexer": "ipython3",
   "version": "3.12.6"
  }
 },
 "nbformat": 4,
 "nbformat_minor": 5
}
