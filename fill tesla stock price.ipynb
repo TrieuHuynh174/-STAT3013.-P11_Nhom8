{
 "cells": [
  {
   "cell_type": "code",
   "execution_count": 7,
   "id": "9d6478f4-85f7-416e-ab2a-fc40f88b48a9",
   "metadata": {},
   "outputs": [
    {
     "name": "stdout",
     "output_type": "stream",
     "text": [
      "Số lượng giá trị bị thiếu trong mỗi cột trước khi điền:\n",
      "Close    661\n",
      "dtype: int64\n",
      "Số lượng giá trị bị thiếu sau khi nội suy:\n",
      "Close    0\n",
      "dtype: int64\n",
      "Dữ liệu đã được lấp đầy và lưu vào 'filled_Tesla_Close_2019_2024.csv'\n"
     ]
    }
   ],
   "source": [
    "import pandas as pd\n",
    "\n",
    "# Đọc dữ liệu từ file CSV\n",
    "data = pd.read_csv('Tesla_Close_2019_2024.csv', parse_dates=['Date'], index_col='Date')\n",
    "\n",
    "# Tạo dải ngày đầy đủ từ ngày bắt đầu đến ngày kết thúc trong dữ liệu\n",
    "full_date_range = pd.date_range(start=data.index.min(), end=data.index.max(), freq='D')\n",
    "\n",
    "# Tạo lại DataFrame để bao gồm tất cả các ngày trong dải\n",
    "data = data.reindex(full_date_range)\n",
    "\n",
    "# Đổi tên chỉ mục thành 'Date'\n",
    "data.index.name = 'Date'\n",
    "\n",
    "# Kiểm tra số lượng giá trị bị thiếu trước khi điền\n",
    "print(\"Số lượng giá trị bị thiếu trong mỗi cột trước khi điền:\")\n",
    "print(data.isnull().sum())\n",
    "\n",
    "# Nội suy tuyến tính để lấp đầy các giá trị bị thiếu\n",
    "data_interpolated = data.interpolate(method='linear', limit=6)\n",
    "\n",
    "# Kiểm tra lại số lượng giá trị bị thiếu sau khi nội suy\n",
    "print(\"Số lượng giá trị bị thiếu sau khi nội suy:\")\n",
    "print(data_interpolated.isnull().sum())\n",
    "\n",
    "# Lưu dataset đã lấp đầy các giá trị\n",
    "data_interpolated.to_csv('filled_Tesla_Close_2019_2024.csv')\n",
    "\n",
    "print(\"Dữ liệu đã được lấp đầy và lưu vào 'filled_Tesla_Close_2019_2024.csv'\")\n"
   ]
  },
  {
   "cell_type": "code",
   "execution_count": null,
   "id": "6400b54c-e102-4c7c-b9f4-24e563ea3fba",
   "metadata": {},
   "outputs": [],
   "source": []
  },
  {
   "cell_type": "code",
   "execution_count": null,
   "id": "6d76f7ae-e222-45fd-8624-aef3d2cac6f8",
   "metadata": {},
   "outputs": [],
   "source": []
  }
 ],
 "metadata": {
  "kernelspec": {
   "display_name": "Python 3 (ipykernel)",
   "language": "python",
   "name": "python3"
  },
  "language_info": {
   "codemirror_mode": {
    "name": "ipython",
    "version": 3
   },
   "file_extension": ".py",
   "mimetype": "text/x-python",
   "name": "python",
   "nbconvert_exporter": "python",
   "pygments_lexer": "ipython3",
   "version": "3.13.0"
  }
 },
 "nbformat": 4,
 "nbformat_minor": 5
}
