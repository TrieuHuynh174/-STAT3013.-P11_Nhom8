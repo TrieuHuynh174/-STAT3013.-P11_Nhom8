{
 "cells": [
  {
   "cell_type": "code",
   "execution_count": 1,
   "id": "895daf5b-4582-41e0-9db0-78972821a01d",
   "metadata": {},
   "outputs": [
    {
     "name": "stderr",
     "output_type": "stream",
     "text": [
      "[I 2024-11-18 14:35:22,125] A new study created in memory with name: no-name-e0f9c61e-6d54-4fff-979b-27c2e3c7516f\n"
     ]
    },
    {
     "name": "stdout",
     "output_type": "stream",
     "text": [
      "\u001b[1m9/9\u001b[0m \u001b[32m━━━━━━━━━━━━━━━━━━━━\u001b[0m\u001b[37m\u001b[0m \u001b[1m1s\u001b[0m 77ms/step\n"
     ]
    },
    {
     "name": "stderr",
     "output_type": "stream",
     "text": [
      "[I 2024-11-18 14:39:32,932] Trial 0 finished with value: 2.880342983047965 and parameters: {'lstm_units': 60, 'dropout_rate': 0.2504247801101781, 'learning_rate': 0.0012358741506022068, 'batch_size': 32, 'epochs': 132}. Best is trial 0 with value: 2.880342983047965.\n"
     ]
    },
    {
     "name": "stdout",
     "output_type": "stream",
     "text": [
      "\u001b[1m9/9\u001b[0m \u001b[32m━━━━━━━━━━━━━━━━━━━━\u001b[0m\u001b[37m\u001b[0m \u001b[1m4s\u001b[0m 258ms/step\n"
     ]
    },
    {
     "name": "stderr",
     "output_type": "stream",
     "text": [
      "[I 2024-11-18 14:51:56,369] Trial 1 finished with value: 4.197712738216658 and parameters: {'lstm_units': 58, 'dropout_rate': 0.22219864608320902, 'learning_rate': 0.0010035458720074018, 'batch_size': 16, 'epochs': 193}. Best is trial 0 with value: 2.880342983047965.\n"
     ]
    },
    {
     "name": "stdout",
     "output_type": "stream",
     "text": [
      "\u001b[1m9/9\u001b[0m \u001b[32m━━━━━━━━━━━━━━━━━━━━\u001b[0m\u001b[37m\u001b[0m \u001b[1m1s\u001b[0m 84ms/step\n"
     ]
    },
    {
     "name": "stderr",
     "output_type": "stream",
     "text": [
      "[I 2024-11-18 15:02:41,178] Trial 2 finished with value: 5.388560979472249 and parameters: {'lstm_units': 51, 'dropout_rate': 0.2573541860778178, 'learning_rate': 0.00204711347197719, 'batch_size': 16, 'epochs': 200}. Best is trial 0 with value: 2.880342983047965.\n"
     ]
    },
    {
     "name": "stdout",
     "output_type": "stream",
     "text": [
      "\u001b[1m9/9\u001b[0m \u001b[32m━━━━━━━━━━━━━━━━━━━━\u001b[0m\u001b[37m\u001b[0m \u001b[1m1s\u001b[0m 96ms/step\n"
     ]
    },
    {
     "name": "stderr",
     "output_type": "stream",
     "text": [
      "[I 2024-11-18 15:08:35,515] Trial 3 finished with value: 6.210939293871229 and parameters: {'lstm_units': 59, 'dropout_rate': 0.306219909394503, 'learning_rate': 0.004664427585551044, 'batch_size': 32, 'epochs': 176}. Best is trial 0 with value: 2.880342983047965.\n"
     ]
    },
    {
     "name": "stdout",
     "output_type": "stream",
     "text": [
      "\u001b[1m9/9\u001b[0m \u001b[32m━━━━━━━━━━━━━━━━━━━━\u001b[0m\u001b[37m\u001b[0m \u001b[1m2s\u001b[0m 136ms/step\n"
     ]
    },
    {
     "name": "stderr",
     "output_type": "stream",
     "text": [
      "[I 2024-11-18 15:14:55,975] Trial 4 finished with value: 3.7134772585381457 and parameters: {'lstm_units': 64, 'dropout_rate': 0.40001893359452856, 'learning_rate': 0.0018458160856224474, 'batch_size': 32, 'epochs': 184}. Best is trial 0 with value: 2.880342983047965.\n"
     ]
    },
    {
     "name": "stdout",
     "output_type": "stream",
     "text": [
      "\u001b[1m9/9\u001b[0m \u001b[32m━━━━━━━━━━━━━━━━━━━━\u001b[0m\u001b[37m\u001b[0m \u001b[1m1s\u001b[0m 98ms/step\n"
     ]
    },
    {
     "name": "stderr",
     "output_type": "stream",
     "text": [
      "[I 2024-11-18 15:19:46,234] Trial 5 finished with value: 4.180293655244498 and parameters: {'lstm_units': 74, 'dropout_rate': 0.39774920663331276, 'learning_rate': 0.0010486888556180836, 'batch_size': 32, 'epochs': 124}. Best is trial 0 with value: 2.880342983047965.\n"
     ]
    },
    {
     "name": "stdout",
     "output_type": "stream",
     "text": [
      "\u001b[1m9/9\u001b[0m \u001b[32m━━━━━━━━━━━━━━━━━━━━\u001b[0m\u001b[37m\u001b[0m \u001b[1m2s\u001b[0m 118ms/step\n"
     ]
    },
    {
     "name": "stderr",
     "output_type": "stream",
     "text": [
      "[I 2024-11-18 15:25:00,564] Trial 6 finished with value: 3.380954102262125 and parameters: {'lstm_units': 63, 'dropout_rate': 0.25637059779547644, 'learning_rate': 0.0026958818339753534, 'batch_size': 32, 'epochs': 106}. Best is trial 0 with value: 2.880342983047965.\n"
     ]
    },
    {
     "name": "stdout",
     "output_type": "stream",
     "text": [
      "\u001b[1m9/9\u001b[0m \u001b[32m━━━━━━━━━━━━━━━━━━━━\u001b[0m\u001b[37m\u001b[0m \u001b[1m1s\u001b[0m 100ms/step\n"
     ]
    },
    {
     "name": "stderr",
     "output_type": "stream",
     "text": [
      "[I 2024-11-18 15:36:30,209] Trial 7 finished with value: 2.569363845301048 and parameters: {'lstm_units': 71, 'dropout_rate': 0.21109991008384008, 'learning_rate': 0.0018233013350920971, 'batch_size': 16, 'epochs': 163}. Best is trial 7 with value: 2.569363845301048.\n"
     ]
    },
    {
     "name": "stdout",
     "output_type": "stream",
     "text": [
      "\u001b[1m9/9\u001b[0m \u001b[32m━━━━━━━━━━━━━━━━━━━━\u001b[0m\u001b[37m\u001b[0m \u001b[1m1s\u001b[0m 61ms/step\n"
     ]
    },
    {
     "name": "stderr",
     "output_type": "stream",
     "text": [
      "[I 2024-11-18 15:42:09,665] Trial 8 finished with value: 3.1377945675689816 and parameters: {'lstm_units': 58, 'dropout_rate': 0.394593432415259, 'learning_rate': 0.0014187296748802945, 'batch_size': 16, 'epochs': 108}. Best is trial 7 with value: 2.569363845301048.\n"
     ]
    },
    {
     "name": "stdout",
     "output_type": "stream",
     "text": [
      "\u001b[1m9/9\u001b[0m \u001b[32m━━━━━━━━━━━━━━━━━━━━\u001b[0m\u001b[37m\u001b[0m \u001b[1m1s\u001b[0m 91ms/step\n"
     ]
    },
    {
     "name": "stderr",
     "output_type": "stream",
     "text": [
      "[I 2024-11-18 15:45:54,016] Trial 9 finished with value: 4.8297536813456 and parameters: {'lstm_units': 65, 'dropout_rate': 0.20687595623779817, 'learning_rate': 0.0015955896761625397, 'batch_size': 32, 'epochs': 139}. Best is trial 7 with value: 2.569363845301048.\n"
     ]
    },
    {
     "name": "stdout",
     "output_type": "stream",
     "text": [
      "Best trial:\n",
      "  Value (MAPE): 2.569363845301048\n",
      "  Params:\n",
      "    lstm_units: 71\n",
      "    dropout_rate: 0.21109991008384008\n",
      "    learning_rate: 0.0018233013350920971\n",
      "    batch_size: 16\n",
      "    epochs: 163\n"
     ]
    }
   ],
   "source": [
    "import numpy as np\n",
    "import pandas as pd\n",
    "import optuna\n",
    "from sklearn.preprocessing import MinMaxScaler\n",
    "from tensorflow.keras.models import Sequential\n",
    "from tensorflow.keras.layers import LSTM, Dense, Dropout, Input\n",
    "from tensorflow.keras.optimizers import Adam\n",
    "from sklearn.metrics import mean_absolute_percentage_error\n",
    "\n",
    "# Step 1: Load the data\n",
    "tesla_data = pd.read_csv('Clean_data/Cleaned_Tesla_Close.csv', parse_dates=['Date'], index_col='Date')\n",
    "sp500_data = pd.read_csv('Clean_data/Cleaned_SP500_Close.csv', parse_dates=['Date'], index_col='Date')\n",
    "ixic_data = pd.read_csv('Clean_data/Cleaned_IXIC_Close.csv', parse_dates=['Date'], index_col='Date')\n",
    "\n",
    "# Merge datasets on 'Date'\n",
    "merged_data = tesla_data.merge(sp500_data, left_index=True, right_index=True, suffixes=('', '_sp500'))\n",
    "merged_data = merged_data.merge(ixic_data, left_index=True, right_index=True, suffixes=('', '_ixic'))\n",
    "\n",
    "# Step 2: Preprocess the data\n",
    "data = merged_data[['Close', 'Close_sp500', 'Close_ixic']]\n",
    "\n",
    "# Scale the data after making it stationary\n",
    "scaler = MinMaxScaler()\n",
    "scaled_data = scaler.fit_transform(data.dropna())  # Ensure NaN values are removed after differencing\n",
    "# Prepare the dataset for LSTM\n",
    "def create_dataset(dataset, time_step=60):\n",
    "    X, y = [], []\n",
    "    for i in range(time_step, len(dataset)):\n",
    "        X.append(dataset[i - time_step:i])\n",
    "        y.append(dataset[i, 0])  # Predict the 'Close' price of Tesla\n",
    "    return np.array(X), np.array(y)\n",
    "\n",
    "time_step = 60\n",
    "X, y = create_dataset(scaled_data, time_step)\n",
    "\n",
    "# Split data into training and test sets\n",
    "train_size = int(len(X) * 0.8)\n",
    "X_train, X_test = X[:train_size], X[train_size:]\n",
    "y_train, y_test = y[:train_size], y[train_size:]\n",
    "\n",
    "\n",
    "# Function to create and train the LSTM model with Optuna\n",
    "def objective(trial):\n",
    "    # Hyperparameters to optimize\n",
    "    lstm_units = trial.suggest_int('lstm_units', 50, 75)\n",
    "    dropout_rate = trial.suggest_float('dropout_rate', 0.2, 0.5)\n",
    "    learning_rate = trial.suggest_float('learning_rate', 0.001, 0.005, log=True)\n",
    "    batch_size = trial.suggest_categorical('batch_size', [16, 32])\n",
    "    epochs = trial.suggest_int('epochs', 100, 200)\n",
    "\n",
    "    # Build the LSTM model\n",
    "    model = Sequential([\n",
    "        Input(shape=(time_step, X_train.shape[2])),\n",
    "        LSTM(lstm_units, return_sequences=True),\n",
    "        Dropout(dropout_rate),\n",
    "        LSTM(lstm_units),\n",
    "        Dropout(dropout_rate),\n",
    "        Dense(1)\n",
    "    ])\n",
    "    model.compile(optimizer=Adam(learning_rate=learning_rate), loss='mean_squared_error')\n",
    "\n",
    "    # Train the model\n",
    "    model.fit(X_train, y_train, epochs=epochs, batch_size=batch_size, verbose=0)\n",
    "\n",
    "    # Evaluate the model\n",
    "    test_predictions = model.predict(X_test)\n",
    "    test_predictions_rescaled = scaler.inverse_transform(\n",
    "        np.hstack([test_predictions, X_test[:, -1, 1:]])\n",
    "    )[:, 0]\n",
    "    y_test_rescaled = scaler.inverse_transform(\n",
    "        np.hstack([y_test.reshape(-1, 1), X_test[:, -1, 1:]])\n",
    "    )[:, 0]\n",
    "\n",
    "    # Calculate MAPE\n",
    "    mape = np.mean(np.abs((y_test_rescaled - test_predictions_rescaled) / y_test_rescaled)) * 100\n",
    "    return mape\n",
    "\n",
    "# Run the optimization\n",
    "study = optuna.create_study(direction='minimize')\n",
    "study.optimize(objective, n_trials=10)\n",
    "\n",
    "# Print the best hyperparameters\n",
    "print('Best trial:')\n",
    "trial = study.best_trial\n",
    "print(f'  Value (MAPE): {trial.value}')\n",
    "print('  Params:')\n",
    "for key, value in trial.params.items():\n",
    "    print(f'    {key}: {value}')\n"
   ]
  },
  {
   "cell_type": "code",
   "execution_count": null,
   "id": "9c92b739-f6e8-4a3e-90cc-2fb4a5e0264e",
   "metadata": {},
   "outputs": [],
   "source": []
  }
 ],
 "metadata": {
  "kernelspec": {
   "display_name": "Python 3 (ipykernel)",
   "language": "python",
   "name": "python3"
  },
  "language_info": {
   "codemirror_mode": {
    "name": "ipython",
    "version": 3
   },
   "file_extension": ".py",
   "mimetype": "text/x-python",
   "name": "python",
   "nbconvert_exporter": "python",
   "pygments_lexer": "ipython3",
   "version": "3.12.6"
  }
 },
 "nbformat": 4,
 "nbformat_minor": 5
}
