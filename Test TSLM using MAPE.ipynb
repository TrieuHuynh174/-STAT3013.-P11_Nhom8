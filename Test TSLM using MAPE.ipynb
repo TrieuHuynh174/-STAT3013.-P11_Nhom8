{
 "cells": [
  {
   "cell_type": "code",
   "execution_count": 4,
   "id": "895daf5b-4582-41e0-9db0-78972821a01d",
   "metadata": {},
   "outputs": [
    {
     "name": "stderr",
     "output_type": "stream",
     "text": [
      "[I 2024-11-16 23:45:39,050] A new study created in memory with name: no-name-db9aa1a1-311e-42ac-a63f-c068b7b5b60e\n"
     ]
    },
    {
     "name": "stdout",
     "output_type": "stream",
     "text": [
      "\u001b[1m9/9\u001b[0m \u001b[32m━━━━━━━━━━━━━━━━━━━━\u001b[0m\u001b[37m\u001b[0m \u001b[1m0s\u001b[0m 30ms/step\n"
     ]
    },
    {
     "name": "stderr",
     "output_type": "stream",
     "text": [
      "[I 2024-11-16 23:47:22,342] Trial 0 finished with value: 7.2338199740118085 and parameters: {'lstm_units': 78, 'dropout_rate': 0.4706038022776564, 'learning_rate': 0.0042110915714095535, 'batch_size': 32, 'epochs': 125}. Best is trial 0 with value: 7.2338199740118085.\n"
     ]
    },
    {
     "name": "stdout",
     "output_type": "stream",
     "text": [
      "\u001b[1m9/9\u001b[0m \u001b[32m━━━━━━━━━━━━━━━━━━━━\u001b[0m\u001b[37m\u001b[0m \u001b[1m0s\u001b[0m 27ms/step\n"
     ]
    },
    {
     "name": "stderr",
     "output_type": "stream",
     "text": [
      "[I 2024-11-16 23:49:02,192] Trial 1 finished with value: 5.971556145582714 and parameters: {'lstm_units': 80, 'dropout_rate': 0.45638738927277317, 'learning_rate': 0.0040302777941638454, 'batch_size': 32, 'epochs': 124}. Best is trial 1 with value: 5.971556145582714.\n"
     ]
    },
    {
     "name": "stdout",
     "output_type": "stream",
     "text": [
      "\u001b[1m9/9\u001b[0m \u001b[32m━━━━━━━━━━━━━━━━━━━━\u001b[0m\u001b[37m\u001b[0m \u001b[1m0s\u001b[0m 28ms/step\n"
     ]
    },
    {
     "name": "stderr",
     "output_type": "stream",
     "text": [
      "[I 2024-11-16 23:51:36,697] Trial 2 finished with value: 5.387337388575854 and parameters: {'lstm_units': 82, 'dropout_rate': 0.4342291167569464, 'learning_rate': 0.004253680585089912, 'batch_size': 32, 'epochs': 188}. Best is trial 2 with value: 5.387337388575854.\n"
     ]
    },
    {
     "name": "stdout",
     "output_type": "stream",
     "text": [
      "\u001b[1m9/9\u001b[0m \u001b[32m━━━━━━━━━━━━━━━━━━━━\u001b[0m\u001b[37m\u001b[0m \u001b[1m0s\u001b[0m 30ms/step\n"
     ]
    },
    {
     "name": "stderr",
     "output_type": "stream",
     "text": [
      "[I 2024-11-16 23:54:45,017] Trial 3 finished with value: 5.3228628576329 and parameters: {'lstm_units': 83, 'dropout_rate': 0.4468238546495636, 'learning_rate': 0.004912580267323476, 'batch_size': 16, 'epochs': 139}. Best is trial 3 with value: 5.3228628576329.\n"
     ]
    },
    {
     "name": "stdout",
     "output_type": "stream",
     "text": [
      "\u001b[1m9/9\u001b[0m \u001b[32m━━━━━━━━━━━━━━━━━━━━\u001b[0m\u001b[37m\u001b[0m \u001b[1m0s\u001b[0m 32ms/step\n"
     ]
    },
    {
     "name": "stderr",
     "output_type": "stream",
     "text": [
      "[I 2024-11-16 23:56:13,401] Trial 4 finished with value: 5.559248681546125 and parameters: {'lstm_units': 83, 'dropout_rate': 0.450355247645023, 'learning_rate': 0.004115221971220913, 'batch_size': 32, 'epochs': 104}. Best is trial 3 with value: 5.3228628576329.\n"
     ]
    },
    {
     "name": "stdout",
     "output_type": "stream",
     "text": [
      "\u001b[1m9/9\u001b[0m \u001b[32m━━━━━━━━━━━━━━━━━━━━\u001b[0m\u001b[37m\u001b[0m \u001b[1m0s\u001b[0m 27ms/step\n"
     ]
    },
    {
     "name": "stderr",
     "output_type": "stream",
     "text": [
      "[I 2024-11-16 23:57:55,314] Trial 5 finished with value: 9.45508092446535 and parameters: {'lstm_units': 81, 'dropout_rate': 0.452426374161884, 'learning_rate': 0.00488084934597914, 'batch_size': 32, 'epochs': 121}. Best is trial 3 with value: 5.3228628576329.\n"
     ]
    },
    {
     "name": "stdout",
     "output_type": "stream",
     "text": [
      "\u001b[1m9/9\u001b[0m \u001b[32m━━━━━━━━━━━━━━━━━━━━\u001b[0m\u001b[37m\u001b[0m \u001b[1m0s\u001b[0m 29ms/step\n"
     ]
    },
    {
     "name": "stderr",
     "output_type": "stream",
     "text": [
      "[I 2024-11-17 00:00:26,323] Trial 6 finished with value: 5.405215329261051 and parameters: {'lstm_units': 79, 'dropout_rate': 0.4695989086721455, 'learning_rate': 0.004313085813146493, 'batch_size': 32, 'epochs': 184}. Best is trial 3 with value: 5.3228628576329.\n"
     ]
    },
    {
     "name": "stdout",
     "output_type": "stream",
     "text": [
      "\u001b[1m9/9\u001b[0m \u001b[32m━━━━━━━━━━━━━━━━━━━━\u001b[0m\u001b[37m\u001b[0m \u001b[1m0s\u001b[0m 27ms/step\n"
     ]
    },
    {
     "name": "stderr",
     "output_type": "stream",
     "text": [
      "[I 2024-11-17 00:02:22,285] Trial 7 finished with value: 7.993465742030809 and parameters: {'lstm_units': 83, 'dropout_rate': 0.47286429818089515, 'learning_rate': 0.004984991824803477, 'batch_size': 32, 'epochs': 138}. Best is trial 3 with value: 5.3228628576329.\n"
     ]
    },
    {
     "name": "stdout",
     "output_type": "stream",
     "text": [
      "\u001b[1m9/9\u001b[0m \u001b[32m━━━━━━━━━━━━━━━━━━━━\u001b[0m\u001b[37m\u001b[0m \u001b[1m0s\u001b[0m 30ms/step\n"
     ]
    },
    {
     "name": "stderr",
     "output_type": "stream",
     "text": [
      "[I 2024-11-17 00:04:55,766] Trial 8 finished with value: 5.5227669096103105 and parameters: {'lstm_units': 83, 'dropout_rate': 0.4521017188988057, 'learning_rate': 0.0040813839266695675, 'batch_size': 32, 'epochs': 182}. Best is trial 3 with value: 5.3228628576329.\n"
     ]
    },
    {
     "name": "stdout",
     "output_type": "stream",
     "text": [
      "\u001b[1m9/9\u001b[0m \u001b[32m━━━━━━━━━━━━━━━━━━━━\u001b[0m\u001b[37m\u001b[0m \u001b[1m0s\u001b[0m 26ms/step\n"
     ]
    },
    {
     "name": "stderr",
     "output_type": "stream",
     "text": [
      "[I 2024-11-17 00:07:55,218] Trial 9 finished with value: 5.544247531613001 and parameters: {'lstm_units': 80, 'dropout_rate': 0.47901883453517685, 'learning_rate': 0.00482696681128151, 'batch_size': 16, 'epochs': 143}. Best is trial 3 with value: 5.3228628576329.\n"
     ]
    },
    {
     "name": "stdout",
     "output_type": "stream",
     "text": [
      "\u001b[1m9/9\u001b[0m \u001b[32m━━━━━━━━━━━━━━━━━━━━\u001b[0m\u001b[37m\u001b[0m \u001b[1m0s\u001b[0m 28ms/step\n"
     ]
    },
    {
     "name": "stderr",
     "output_type": "stream",
     "text": [
      "[I 2024-11-17 00:11:24,368] Trial 10 finished with value: 5.9071583888003705 and parameters: {'lstm_units': 81, 'dropout_rate': 0.4336824943620581, 'learning_rate': 0.004613591875275929, 'batch_size': 16, 'epochs': 166}. Best is trial 3 with value: 5.3228628576329.\n"
     ]
    },
    {
     "name": "stdout",
     "output_type": "stream",
     "text": [
      "\u001b[1m9/9\u001b[0m \u001b[32m━━━━━━━━━━━━━━━━━━━━\u001b[0m\u001b[37m\u001b[0m \u001b[1m0s\u001b[0m 31ms/step\n"
     ]
    },
    {
     "name": "stderr",
     "output_type": "stream",
     "text": [
      "[I 2024-11-17 00:15:52,475] Trial 11 finished with value: 5.736499783131467 and parameters: {'lstm_units': 82, 'dropout_rate': 0.4331246533539767, 'learning_rate': 0.004456435346098231, 'batch_size': 16, 'epochs': 199}. Best is trial 3 with value: 5.3228628576329.\n"
     ]
    },
    {
     "name": "stdout",
     "output_type": "stream",
     "text": [
      "\u001b[1m9/9\u001b[0m \u001b[32m━━━━━━━━━━━━━━━━━━━━\u001b[0m\u001b[37m\u001b[0m \u001b[1m0s\u001b[0m 29ms/step\n"
     ]
    },
    {
     "name": "stderr",
     "output_type": "stream",
     "text": [
      "[I 2024-11-17 00:19:36,466] Trial 12 finished with value: 6.091171539878149 and parameters: {'lstm_units': 82, 'dropout_rate': 0.4413336194315548, 'learning_rate': 0.004623369953381209, 'batch_size': 16, 'epochs': 164}. Best is trial 3 with value: 5.3228628576329.\n"
     ]
    },
    {
     "name": "stdout",
     "output_type": "stream",
     "text": [
      "\u001b[1m9/9\u001b[0m \u001b[32m━━━━━━━━━━━━━━━━━━━━\u001b[0m\u001b[37m\u001b[0m \u001b[1m0s\u001b[0m 28ms/step\n"
     ]
    },
    {
     "name": "stderr",
     "output_type": "stream",
     "text": [
      "[I 2024-11-17 00:23:04,139] Trial 13 finished with value: 5.516723059453754 and parameters: {'lstm_units': 82, 'dropout_rate': 0.44197877459270984, 'learning_rate': 0.004328168910052601, 'batch_size': 16, 'epochs': 157}. Best is trial 3 with value: 5.3228628576329.\n"
     ]
    },
    {
     "name": "stdout",
     "output_type": "stream",
     "text": [
      "\u001b[1m9/9\u001b[0m \u001b[32m━━━━━━━━━━━━━━━━━━━━\u001b[0m\u001b[37m\u001b[0m \u001b[1m0s\u001b[0m 29ms/step\n"
     ]
    },
    {
     "name": "stderr",
     "output_type": "stream",
     "text": [
      "[I 2024-11-17 00:26:47,879] Trial 14 finished with value: 5.372592085980801 and parameters: {'lstm_units': 82, 'dropout_rate': 0.4423276041392343, 'learning_rate': 0.004582078203549842, 'batch_size': 16, 'epochs': 177}. Best is trial 3 with value: 5.3228628576329.\n"
     ]
    },
    {
     "name": "stdout",
     "output_type": "stream",
     "text": [
      "\u001b[1m9/9\u001b[0m \u001b[32m━━━━━━━━━━━━━━━━━━━━\u001b[0m\u001b[37m\u001b[0m \u001b[1m0s\u001b[0m 29ms/step\n"
     ]
    },
    {
     "name": "stderr",
     "output_type": "stream",
     "text": [
      "[I 2024-11-17 00:29:59,985] Trial 15 finished with value: 9.076181140203404 and parameters: {'lstm_units': 83, 'dropout_rate': 0.4439606685783772, 'learning_rate': 0.004679279210516221, 'batch_size': 16, 'epochs': 149}. Best is trial 3 with value: 5.3228628576329.\n"
     ]
    },
    {
     "name": "stdout",
     "output_type": "stream",
     "text": [
      "\u001b[1m9/9\u001b[0m \u001b[32m━━━━━━━━━━━━━━━━━━━━\u001b[0m\u001b[37m\u001b[0m \u001b[1m0s\u001b[0m 28ms/step\n"
     ]
    },
    {
     "name": "stderr",
     "output_type": "stream",
     "text": [
      "[I 2024-11-17 00:33:37,930] Trial 16 finished with value: 7.444446122447738 and parameters: {'lstm_units': 81, 'dropout_rate': 0.4618991580310424, 'learning_rate': 0.004744189275559423, 'batch_size': 16, 'epochs': 171}. Best is trial 3 with value: 5.3228628576329.\n"
     ]
    },
    {
     "name": "stdout",
     "output_type": "stream",
     "text": [
      "\u001b[1m9/9\u001b[0m \u001b[32m━━━━━━━━━━━━━━━━━━━━\u001b[0m\u001b[37m\u001b[0m \u001b[1m0s\u001b[0m 28ms/step\n"
     ]
    },
    {
     "name": "stderr",
     "output_type": "stream",
     "text": [
      "[I 2024-11-17 00:36:38,579] Trial 17 finished with value: 5.604361293506611 and parameters: {'lstm_units': 82, 'dropout_rate': 0.44673500032404406, 'learning_rate': 0.004525816691531448, 'batch_size': 16, 'epochs': 138}. Best is trial 3 with value: 5.3228628576329.\n"
     ]
    },
    {
     "name": "stdout",
     "output_type": "stream",
     "text": [
      "\u001b[1m9/9\u001b[0m \u001b[32m━━━━━━━━━━━━━━━━━━━━\u001b[0m\u001b[37m\u001b[0m \u001b[1m1s\u001b[0m 28ms/step\n"
     ]
    },
    {
     "name": "stderr",
     "output_type": "stream",
     "text": [
      "[I 2024-11-17 00:38:48,847] Trial 18 finished with value: 5.493244640093873 and parameters: {'lstm_units': 83, 'dropout_rate': 0.4603402922209937, 'learning_rate': 0.0049816586025291775, 'batch_size': 16, 'epochs': 102}. Best is trial 3 with value: 5.3228628576329.\n"
     ]
    },
    {
     "name": "stdout",
     "output_type": "stream",
     "text": [
      "\u001b[1m9/9\u001b[0m \u001b[32m━━━━━━━━━━━━━━━━━━━━\u001b[0m\u001b[37m\u001b[0m \u001b[1m0s\u001b[0m 28ms/step\n"
     ]
    },
    {
     "name": "stderr",
     "output_type": "stream",
     "text": [
      "[I 2024-11-17 00:42:33,040] Trial 19 finished with value: 7.376686013857614 and parameters: {'lstm_units': 81, 'dropout_rate': 0.4383484291035276, 'learning_rate': 0.004463051983122734, 'batch_size': 16, 'epochs': 174}. Best is trial 3 with value: 5.3228628576329.\n"
     ]
    },
    {
     "name": "stdout",
     "output_type": "stream",
     "text": [
      "\u001b[1m9/9\u001b[0m \u001b[32m━━━━━━━━━━━━━━━━━━━━\u001b[0m\u001b[37m\u001b[0m \u001b[1m0s\u001b[0m 27ms/step\n"
     ]
    },
    {
     "name": "stderr",
     "output_type": "stream",
     "text": [
      "[I 2024-11-17 00:45:46,912] Trial 20 finished with value: 6.727490836307556 and parameters: {'lstm_units': 82, 'dropout_rate': 0.44703338351319777, 'learning_rate': 0.004826048749185344, 'batch_size': 16, 'epochs': 155}. Best is trial 3 with value: 5.3228628576329.\n"
     ]
    },
    {
     "name": "stdout",
     "output_type": "stream",
     "text": [
      "\u001b[1m9/9\u001b[0m \u001b[32m━━━━━━━━━━━━━━━━━━━━\u001b[0m\u001b[37m\u001b[0m \u001b[1m0s\u001b[0m 34ms/step\n"
     ]
    },
    {
     "name": "stderr",
     "output_type": "stream",
     "text": [
      "[I 2024-11-17 00:48:28,148] Trial 21 finished with value: 9.472299179511126 and parameters: {'lstm_units': 82, 'dropout_rate': 0.43068309863433535, 'learning_rate': 0.004301651940246666, 'batch_size': 32, 'epochs': 200}. Best is trial 3 with value: 5.3228628576329.\n"
     ]
    },
    {
     "name": "stdout",
     "output_type": "stream",
     "text": [
      "\u001b[1m9/9\u001b[0m \u001b[32m━━━━━━━━━━━━━━━━━━━━\u001b[0m\u001b[37m\u001b[0m \u001b[1m0s\u001b[0m 28ms/step\n"
     ]
    },
    {
     "name": "stderr",
     "output_type": "stream",
     "text": [
      "[I 2024-11-17 00:52:17,115] Trial 22 finished with value: 7.070198041334742 and parameters: {'lstm_units': 83, 'dropout_rate': 0.43615309447382333, 'learning_rate': 0.004215115239441324, 'batch_size': 16, 'epochs': 189}. Best is trial 3 with value: 5.3228628576329.\n"
     ]
    },
    {
     "name": "stdout",
     "output_type": "stream",
     "text": [
      "\u001b[1m9/9\u001b[0m \u001b[32m━━━━━━━━━━━━━━━━━━━━\u001b[0m\u001b[37m\u001b[0m \u001b[1m0s\u001b[0m 27ms/step\n"
     ]
    },
    {
     "name": "stderr",
     "output_type": "stream",
     "text": [
      "[I 2024-11-17 00:54:49,009] Trial 23 finished with value: 5.422528288387181 and parameters: {'lstm_units': 82, 'dropout_rate': 0.43884737427697745, 'learning_rate': 0.004383988146734701, 'batch_size': 32, 'epochs': 189}. Best is trial 3 with value: 5.3228628576329.\n"
     ]
    },
    {
     "name": "stdout",
     "output_type": "stream",
     "text": [
      "\u001b[1m9/9\u001b[0m \u001b[32m━━━━━━━━━━━━━━━━━━━━\u001b[0m\u001b[37m\u001b[0m \u001b[1m0s\u001b[0m 26ms/step\n"
     ]
    },
    {
     "name": "stderr",
     "output_type": "stream",
     "text": [
      "[I 2024-11-17 00:58:19,877] Trial 24 finished with value: 7.081399638899525 and parameters: {'lstm_units': 80, 'dropout_rate': 0.44548030324524596, 'learning_rate': 0.004528327362469395, 'batch_size': 16, 'epochs': 177}. Best is trial 3 with value: 5.3228628576329.\n"
     ]
    },
    {
     "name": "stdout",
     "output_type": "stream",
     "text": [
      "\u001b[1m9/9\u001b[0m \u001b[32m━━━━━━━━━━━━━━━━━━━━\u001b[0m\u001b[37m\u001b[0m \u001b[1m1s\u001b[0m 97ms/step\n"
     ]
    },
    {
     "name": "stderr",
     "output_type": "stream",
     "text": [
      "[I 2024-11-17 01:02:15,422] Trial 25 finished with value: 8.215807768583428 and parameters: {'lstm_units': 81, 'dropout_rate': 0.43940177089550214, 'learning_rate': 0.004212580441423313, 'batch_size': 16, 'epochs': 192}. Best is trial 3 with value: 5.3228628576329.\n"
     ]
    },
    {
     "name": "stdout",
     "output_type": "stream",
     "text": [
      "\u001b[1m9/9\u001b[0m \u001b[32m━━━━━━━━━━━━━━━━━━━━\u001b[0m\u001b[37m\u001b[0m \u001b[1m0s\u001b[0m 33ms/step\n"
     ]
    },
    {
     "name": "stderr",
     "output_type": "stream",
     "text": [
      "[I 2024-11-17 01:04:23,956] Trial 26 finished with value: 7.253231136615127 and parameters: {'lstm_units': 83, 'dropout_rate': 0.4488008326472156, 'learning_rate': 0.004745468868330536, 'batch_size': 32, 'epochs': 163}. Best is trial 3 with value: 5.3228628576329.\n"
     ]
    },
    {
     "name": "stdout",
     "output_type": "stream",
     "text": [
      "\u001b[1m9/9\u001b[0m \u001b[32m━━━━━━━━━━━━━━━━━━━━\u001b[0m\u001b[37m\u001b[0m \u001b[1m0s\u001b[0m 27ms/step\n"
     ]
    },
    {
     "name": "stderr",
     "output_type": "stream",
     "text": [
      "[I 2024-11-17 01:06:37,068] Trial 27 finished with value: 7.86002235980848 and parameters: {'lstm_units': 82, 'dropout_rate': 0.43020539333403557, 'learning_rate': 0.004399235326149812, 'batch_size': 16, 'epochs': 115}. Best is trial 3 with value: 5.3228628576329.\n"
     ]
    },
    {
     "name": "stdout",
     "output_type": "stream",
     "text": [
      "\u001b[1m9/9\u001b[0m \u001b[32m━━━━━━━━━━━━━━━━━━━━\u001b[0m\u001b[37m\u001b[0m \u001b[1m1s\u001b[0m 36ms/step\n"
     ]
    },
    {
     "name": "stderr",
     "output_type": "stream",
     "text": [
      "[I 2024-11-17 01:08:19,780] Trial 28 finished with value: 5.700178594617331 and parameters: {'lstm_units': 79, 'dropout_rate': 0.456925115753496, 'learning_rate': 0.004593651951371012, 'batch_size': 32, 'epochs': 132}. Best is trial 3 with value: 5.3228628576329.\n"
     ]
    },
    {
     "name": "stdout",
     "output_type": "stream",
     "text": [
      "\u001b[1m9/9\u001b[0m \u001b[32m━━━━━━━━━━━━━━━━━━━━\u001b[0m\u001b[37m\u001b[0m \u001b[1m0s\u001b[0m 31ms/step\n"
     ]
    },
    {
     "name": "stderr",
     "output_type": "stream",
     "text": [
      "[I 2024-11-17 01:10:19,852] Trial 29 finished with value: 7.143912059342253 and parameters: {'lstm_units': 83, 'dropout_rate': 0.4359497165464817, 'learning_rate': 0.004161294054843434, 'batch_size': 32, 'epochs': 152}. Best is trial 3 with value: 5.3228628576329.\n"
     ]
    },
    {
     "name": "stdout",
     "output_type": "stream",
     "text": [
      "\u001b[1m9/9\u001b[0m \u001b[32m━━━━━━━━━━━━━━━━━━━━\u001b[0m\u001b[37m\u001b[0m \u001b[1m0s\u001b[0m 27ms/step\n"
     ]
    },
    {
     "name": "stderr",
     "output_type": "stream",
     "text": [
      "[I 2024-11-17 01:13:42,881] Trial 30 finished with value: 5.602779365818564 and parameters: {'lstm_units': 78, 'dropout_rate': 0.44293029324633426, 'learning_rate': 0.004914918248880549, 'batch_size': 16, 'epochs': 180}. Best is trial 3 with value: 5.3228628576329.\n"
     ]
    },
    {
     "name": "stdout",
     "output_type": "stream",
     "text": [
      "\u001b[1m9/9\u001b[0m \u001b[32m━━━━━━━━━━━━━━━━━━━━\u001b[0m\u001b[37m\u001b[0m \u001b[1m0s\u001b[0m 35ms/step\n"
     ]
    },
    {
     "name": "stderr",
     "output_type": "stream",
     "text": [
      "[I 2024-11-17 01:16:05,989] Trial 31 finished with value: 5.62113700070551 and parameters: {'lstm_units': 79, 'dropout_rate': 0.46760886901178156, 'learning_rate': 0.004289997366791457, 'batch_size': 32, 'epochs': 184}. Best is trial 3 with value: 5.3228628576329.\n"
     ]
    },
    {
     "name": "stdout",
     "output_type": "stream",
     "text": [
      "\u001b[1m9/9\u001b[0m \u001b[32m━━━━━━━━━━━━━━━━━━━━\u001b[0m\u001b[37m\u001b[0m \u001b[1m1s\u001b[0m 35ms/step\n"
     ]
    },
    {
     "name": "stderr",
     "output_type": "stream",
     "text": [
      "[I 2024-11-17 01:18:29,692] Trial 32 finished with value: 5.187206102549254 and parameters: {'lstm_units': 78, 'dropout_rate': 0.4677274536730207, 'learning_rate': 0.00424752674530678, 'batch_size': 32, 'epochs': 193}. Best is trial 32 with value: 5.187206102549254.\n"
     ]
    },
    {
     "name": "stdout",
     "output_type": "stream",
     "text": [
      "\u001b[1m9/9\u001b[0m \u001b[32m━━━━━━━━━━━━━━━━━━━━\u001b[0m\u001b[37m\u001b[0m \u001b[1m0s\u001b[0m 31ms/step\n"
     ]
    },
    {
     "name": "stderr",
     "output_type": "stream",
     "text": [
      "[I 2024-11-17 01:20:57,453] Trial 33 finished with value: 6.457575456180301 and parameters: {'lstm_units': 80, 'dropout_rate': 0.4624261988761001, 'learning_rate': 0.004254289190292827, 'batch_size': 32, 'epochs': 194}. Best is trial 32 with value: 5.187206102549254.\n"
     ]
    },
    {
     "name": "stdout",
     "output_type": "stream",
     "text": [
      "\u001b[1m9/9\u001b[0m \u001b[32m━━━━━━━━━━━━━━━━━━━━\u001b[0m\u001b[37m\u001b[0m \u001b[1m1s\u001b[0m 37ms/step\n"
     ]
    },
    {
     "name": "stderr",
     "output_type": "stream",
     "text": [
      "[I 2024-11-17 01:23:08,566] Trial 34 finished with value: 8.547779649253462 and parameters: {'lstm_units': 78, 'dropout_rate': 0.45616650666470693, 'learning_rate': 0.004138871770919201, 'batch_size': 32, 'epochs': 172}. Best is trial 32 with value: 5.187206102549254.\n"
     ]
    },
    {
     "name": "stdout",
     "output_type": "stream",
     "text": [
      "\u001b[1m9/9\u001b[0m \u001b[32m━━━━━━━━━━━━━━━━━━━━\u001b[0m\u001b[37m\u001b[0m \u001b[1m0s\u001b[0m 35ms/step\n"
     ]
    },
    {
     "name": "stderr",
     "output_type": "stream",
     "text": [
      "[I 2024-11-17 01:25:40,740] Trial 35 finished with value: 6.1443267097092376 and parameters: {'lstm_units': 81, 'dropout_rate': 0.45076772669693854, 'learning_rate': 0.004006109624303965, 'batch_size': 32, 'epochs': 196}. Best is trial 32 with value: 5.187206102549254.\n"
     ]
    },
    {
     "name": "stdout",
     "output_type": "stream",
     "text": [
      "\u001b[1m9/9\u001b[0m \u001b[32m━━━━━━━━━━━━━━━━━━━━\u001b[0m\u001b[37m\u001b[0m \u001b[1m1s\u001b[0m 34ms/step\n"
     ]
    },
    {
     "name": "stderr",
     "output_type": "stream",
     "text": [
      "[I 2024-11-17 01:27:18,501] Trial 36 finished with value: 5.370070641249105 and parameters: {'lstm_units': 78, 'dropout_rate': 0.4543498600351327, 'learning_rate': 0.004074570042905259, 'batch_size': 32, 'epochs': 129}. Best is trial 32 with value: 5.187206102549254.\n"
     ]
    },
    {
     "name": "stdout",
     "output_type": "stream",
     "text": [
      "\u001b[1m9/9\u001b[0m \u001b[32m━━━━━━━━━━━━━━━━━━━━\u001b[0m\u001b[37m\u001b[0m \u001b[1m0s\u001b[0m 25ms/step\n"
     ]
    },
    {
     "name": "stderr",
     "output_type": "stream",
     "text": [
      "[I 2024-11-17 01:28:53,512] Trial 37 finished with value: 8.492614422675194 and parameters: {'lstm_units': 78, 'dropout_rate': 0.45411813862765, 'learning_rate': 0.004068201320306, 'batch_size': 32, 'epochs': 127}. Best is trial 32 with value: 5.187206102549254.\n"
     ]
    },
    {
     "name": "stdout",
     "output_type": "stream",
     "text": [
      "\u001b[1m9/9\u001b[0m \u001b[32m━━━━━━━━━━━━━━━━━━━━\u001b[0m\u001b[37m\u001b[0m \u001b[1m0s\u001b[0m 33ms/step\n"
     ]
    },
    {
     "name": "stderr",
     "output_type": "stream",
     "text": [
      "[I 2024-11-17 01:30:20,861] Trial 38 finished with value: 5.636416517706508 and parameters: {'lstm_units': 79, 'dropout_rate': 0.4645963371343713, 'learning_rate': 0.004044056652631614, 'batch_size': 32, 'epochs': 115}. Best is trial 32 with value: 5.187206102549254.\n"
     ]
    },
    {
     "name": "stdout",
     "output_type": "stream",
     "text": [
      "\u001b[1m9/9\u001b[0m \u001b[32m━━━━━━━━━━━━━━━━━━━━\u001b[0m\u001b[37m\u001b[0m \u001b[1m0s\u001b[0m 33ms/step\n"
     ]
    },
    {
     "name": "stderr",
     "output_type": "stream",
     "text": [
      "[I 2024-11-17 01:32:08,812] Trial 39 finished with value: 5.340776572694217 and parameters: {'lstm_units': 78, 'dropout_rate': 0.4750655690546266, 'learning_rate': 0.0041754022381748105, 'batch_size': 32, 'epochs': 145}. Best is trial 32 with value: 5.187206102549254.\n"
     ]
    },
    {
     "name": "stdout",
     "output_type": "stream",
     "text": [
      "\u001b[1m9/9\u001b[0m \u001b[32m━━━━━━━━━━━━━━━━━━━━\u001b[0m\u001b[37m\u001b[0m \u001b[1m0s\u001b[0m 31ms/step\n"
     ]
    },
    {
     "name": "stderr",
     "output_type": "stream",
     "text": [
      "[I 2024-11-17 01:33:56,414] Trial 40 finished with value: 8.053892273949804 and parameters: {'lstm_units': 78, 'dropout_rate': 0.4751698011561873, 'learning_rate': 0.0041692026332895244, 'batch_size': 32, 'epochs': 145}. Best is trial 32 with value: 5.187206102549254.\n"
     ]
    },
    {
     "name": "stdout",
     "output_type": "stream",
     "text": [
      "\u001b[1m9/9\u001b[0m \u001b[32m━━━━━━━━━━━━━━━━━━━━\u001b[0m\u001b[37m\u001b[0m \u001b[1m0s\u001b[0m 26ms/step\n"
     ]
    },
    {
     "name": "stderr",
     "output_type": "stream",
     "text": [
      "[I 2024-11-17 01:35:39,482] Trial 41 finished with value: 7.07618274290159 and parameters: {'lstm_units': 78, 'dropout_rate': 0.478594747369576, 'learning_rate': 0.004116027407817647, 'batch_size': 32, 'epochs': 134}. Best is trial 32 with value: 5.187206102549254.\n"
     ]
    },
    {
     "name": "stdout",
     "output_type": "stream",
     "text": [
      "\u001b[1m9/9\u001b[0m \u001b[32m━━━━━━━━━━━━━━━━━━━━\u001b[0m\u001b[37m\u001b[0m \u001b[1m0s\u001b[0m 38ms/step\n"
     ]
    },
    {
     "name": "stderr",
     "output_type": "stream",
     "text": [
      "[I 2024-11-17 01:37:29,315] Trial 42 finished with value: 9.105595642756208 and parameters: {'lstm_units': 79, 'dropout_rate': 0.4721017264336994, 'learning_rate': 0.004101642267398906, 'batch_size': 32, 'epochs': 141}. Best is trial 32 with value: 5.187206102549254.\n"
     ]
    },
    {
     "name": "stdout",
     "output_type": "stream",
     "text": [
      "\u001b[1m9/9\u001b[0m \u001b[32m━━━━━━━━━━━━━━━━━━━━\u001b[0m\u001b[37m\u001b[0m \u001b[1m0s\u001b[0m 30ms/step\n"
     ]
    },
    {
     "name": "stderr",
     "output_type": "stream",
     "text": [
      "[I 2024-11-17 01:39:04,243] Trial 43 finished with value: 5.858382494727602 and parameters: {'lstm_units': 78, 'dropout_rate': 0.47468923991677503, 'learning_rate': 0.004192521190811469, 'batch_size': 32, 'epochs': 123}. Best is trial 32 with value: 5.187206102549254.\n"
     ]
    },
    {
     "name": "stdout",
     "output_type": "stream",
     "text": [
      "\u001b[1m9/9\u001b[0m \u001b[32m━━━━━━━━━━━━━━━━━━━━\u001b[0m\u001b[37m\u001b[0m \u001b[1m0s\u001b[0m 28ms/step\n"
     ]
    },
    {
     "name": "stderr",
     "output_type": "stream",
     "text": [
      "[I 2024-11-17 01:40:48,693] Trial 44 finished with value: 5.790499604221527 and parameters: {'lstm_units': 78, 'dropout_rate': 0.4675282801253078, 'learning_rate': 0.004351985858852203, 'batch_size': 32, 'epochs': 127}. Best is trial 32 with value: 5.187206102549254.\n"
     ]
    },
    {
     "name": "stdout",
     "output_type": "stream",
     "text": [
      "\u001b[1m9/9\u001b[0m \u001b[32m━━━━━━━━━━━━━━━━━━━━\u001b[0m\u001b[37m\u001b[0m \u001b[1m0s\u001b[0m 27ms/step\n"
     ]
    },
    {
     "name": "stderr",
     "output_type": "stream",
     "text": [
      "[I 2024-11-17 01:42:22,165] Trial 45 finished with value: 5.537274946506238 and parameters: {'lstm_units': 79, 'dropout_rate': 0.45421647592137065, 'learning_rate': 0.004256578682884851, 'batch_size': 32, 'epochs': 116}. Best is trial 32 with value: 5.187206102549254.\n"
     ]
    },
    {
     "name": "stdout",
     "output_type": "stream",
     "text": [
      "\u001b[1m9/9\u001b[0m \u001b[32m━━━━━━━━━━━━━━━━━━━━\u001b[0m\u001b[37m\u001b[0m \u001b[1m0s\u001b[0m 26ms/step\n"
     ]
    },
    {
     "name": "stderr",
     "output_type": "stream",
     "text": [
      "[I 2024-11-17 01:45:09,069] Trial 46 finished with value: 9.323744567965434 and parameters: {'lstm_units': 79, 'dropout_rate': 0.45874060914232945, 'learning_rate': 0.004042487709239536, 'batch_size': 16, 'epochs': 147}. Best is trial 32 with value: 5.187206102549254.\n"
     ]
    },
    {
     "name": "stdout",
     "output_type": "stream",
     "text": [
      "\u001b[1m9/9\u001b[0m \u001b[32m━━━━━━━━━━━━━━━━━━━━\u001b[0m\u001b[37m\u001b[0m \u001b[1m0s\u001b[0m 29ms/step\n"
     ]
    },
    {
     "name": "stderr",
     "output_type": "stream",
     "text": [
      "[I 2024-11-17 01:46:50,547] Trial 47 finished with value: 6.318901847967448 and parameters: {'lstm_units': 78, 'dropout_rate': 0.4692035206638039, 'learning_rate': 0.0047051773169408855, 'batch_size': 32, 'epochs': 133}. Best is trial 32 with value: 5.187206102549254.\n"
     ]
    },
    {
     "name": "stdout",
     "output_type": "stream",
     "text": [
      "\u001b[1m9/9\u001b[0m \u001b[32m━━━━━━━━━━━━━━━━━━━━\u001b[0m\u001b[37m\u001b[0m \u001b[1m0s\u001b[0m 35ms/step\n"
     ]
    },
    {
     "name": "stderr",
     "output_type": "stream",
     "text": [
      "[I 2024-11-17 01:49:45,970] Trial 48 finished with value: 5.609300803213251 and parameters: {'lstm_units': 80, 'dropout_rate': 0.4799645233188788, 'learning_rate': 0.004813421710478379, 'batch_size': 16, 'epochs': 156}. Best is trial 32 with value: 5.187206102549254.\n"
     ]
    },
    {
     "name": "stdout",
     "output_type": "stream",
     "text": [
      "\u001b[1m9/9\u001b[0m \u001b[32m━━━━━━━━━━━━━━━━━━━━\u001b[0m\u001b[37m\u001b[0m \u001b[1m1s\u001b[0m 37ms/step\n"
     ]
    },
    {
     "name": "stderr",
     "output_type": "stream",
     "text": [
      "[I 2024-11-17 01:51:47,330] Trial 49 finished with value: 6.801789422850142 and parameters: {'lstm_units': 78, 'dropout_rate': 0.4768358566907291, 'learning_rate': 0.004540395768816277, 'batch_size': 16, 'epochs': 108}. Best is trial 32 with value: 5.187206102549254.\n"
     ]
    },
    {
     "name": "stdout",
     "output_type": "stream",
     "text": [
      "\u001b[1m9/9\u001b[0m \u001b[32m━━━━━━━━━━━━━━━━━━━━\u001b[0m\u001b[37m\u001b[0m \u001b[1m0s\u001b[0m 27ms/step\n"
     ]
    },
    {
     "name": "stderr",
     "output_type": "stream",
     "text": [
      "[I 2024-11-17 01:53:49,286] Trial 50 finished with value: 6.270487174975024 and parameters: {'lstm_units': 79, 'dropout_rate': 0.44899412912842857, 'learning_rate': 0.004887984432965241, 'batch_size': 32, 'epochs': 161}. Best is trial 32 with value: 5.187206102549254.\n"
     ]
    },
    {
     "name": "stdout",
     "output_type": "stream",
     "text": [
      "\u001b[1m9/9\u001b[0m \u001b[32m━━━━━━━━━━━━━━━━━━━━\u001b[0m\u001b[37m\u001b[0m \u001b[1m0s\u001b[0m 27ms/step\n"
     ]
    },
    {
     "name": "stderr",
     "output_type": "stream",
     "text": [
      "[I 2024-11-17 01:56:16,811] Trial 51 finished with value: 6.570177449675469 and parameters: {'lstm_units': 83, 'dropout_rate': 0.4336441771914002, 'learning_rate': 0.0042534107921069, 'batch_size': 32, 'epochs': 184}. Best is trial 32 with value: 5.187206102549254.\n"
     ]
    },
    {
     "name": "stdout",
     "output_type": "stream",
     "text": [
      "\u001b[1m9/9\u001b[0m \u001b[32m━━━━━━━━━━━━━━━━━━━━\u001b[0m\u001b[37m\u001b[0m \u001b[1m0s\u001b[0m 27ms/step\n"
     ]
    },
    {
     "name": "stderr",
     "output_type": "stream",
     "text": [
      "[I 2024-11-17 01:58:44,746] Trial 52 finished with value: 6.489298465790775 and parameters: {'lstm_units': 82, 'dropout_rate': 0.44094143593617574, 'learning_rate': 0.004385455924939346, 'batch_size': 32, 'epochs': 188}. Best is trial 32 with value: 5.187206102549254.\n"
     ]
    },
    {
     "name": "stdout",
     "output_type": "stream",
     "text": [
      "\u001b[1m9/9\u001b[0m \u001b[32m━━━━━━━━━━━━━━━━━━━━\u001b[0m\u001b[37m\u001b[0m \u001b[1m0s\u001b[0m 28ms/step\n"
     ]
    },
    {
     "name": "stderr",
     "output_type": "stream",
     "text": [
      "[I 2024-11-17 02:00:35,096] Trial 53 finished with value: 6.952615154111541 and parameters: {'lstm_units': 81, 'dropout_rate': 0.4521772933693832, 'learning_rate': 0.004135028374398677, 'batch_size': 32, 'epochs': 140}. Best is trial 32 with value: 5.187206102549254.\n"
     ]
    },
    {
     "name": "stdout",
     "output_type": "stream",
     "text": [
      "\u001b[1m9/9\u001b[0m \u001b[32m━━━━━━━━━━━━━━━━━━━━\u001b[0m\u001b[37m\u001b[0m \u001b[1m0s\u001b[0m 27ms/step\n"
     ]
    },
    {
     "name": "stderr",
     "output_type": "stream",
     "text": [
      "[I 2024-11-17 02:03:05,814] Trial 54 finished with value: 9.440729768912066 and parameters: {'lstm_units': 83, 'dropout_rate': 0.4647128662197556, 'learning_rate': 0.004336249955970164, 'batch_size': 16, 'epochs': 130}. Best is trial 32 with value: 5.187206102549254.\n"
     ]
    },
    {
     "name": "stdout",
     "output_type": "stream",
     "text": [
      "\u001b[1m9/9\u001b[0m \u001b[32m━━━━━━━━━━━━━━━━━━━━\u001b[0m\u001b[37m\u001b[0m \u001b[1m0s\u001b[0m 34ms/step\n"
     ]
    },
    {
     "name": "stderr",
     "output_type": "stream",
     "text": [
      "[I 2024-11-17 02:05:04,618] Trial 55 finished with value: 5.466752858720973 and parameters: {'lstm_units': 82, 'dropout_rate': 0.4450265322090106, 'learning_rate': 0.0044190854063617425, 'batch_size': 32, 'epochs': 150}. Best is trial 32 with value: 5.187206102549254.\n"
     ]
    },
    {
     "name": "stdout",
     "output_type": "stream",
     "text": [
      "\u001b[1m9/9\u001b[0m \u001b[32m━━━━━━━━━━━━━━━━━━━━\u001b[0m\u001b[37m\u001b[0m \u001b[1m0s\u001b[0m 30ms/step\n"
     ]
    },
    {
     "name": "stderr",
     "output_type": "stream",
     "text": [
      "[I 2024-11-17 02:07:55,904] Trial 56 finished with value: 9.140317354552938 and parameters: {'lstm_units': 81, 'dropout_rate': 0.44765153140928027, 'learning_rate': 0.0040945398653954275, 'batch_size': 16, 'epochs': 136}. Best is trial 32 with value: 5.187206102549254.\n"
     ]
    },
    {
     "name": "stdout",
     "output_type": "stream",
     "text": [
      "\u001b[1m9/9\u001b[0m \u001b[32m━━━━━━━━━━━━━━━━━━━━\u001b[0m\u001b[37m\u001b[0m \u001b[1m0s\u001b[0m 30ms/step\n"
     ]
    },
    {
     "name": "stderr",
     "output_type": "stream",
     "text": [
      "[I 2024-11-17 02:10:32,233] Trial 57 finished with value: 5.759187184855328 and parameters: {'lstm_units': 78, 'dropout_rate': 0.47265663923491297, 'learning_rate': 0.004231040959198511, 'batch_size': 32, 'epochs': 198}. Best is trial 32 with value: 5.187206102549254.\n"
     ]
    },
    {
     "name": "stdout",
     "output_type": "stream",
     "text": [
      "\u001b[1m9/9\u001b[0m \u001b[32m━━━━━━━━━━━━━━━━━━━━\u001b[0m\u001b[37m\u001b[0m \u001b[1m0s\u001b[0m 34ms/step\n"
     ]
    },
    {
     "name": "stderr",
     "output_type": "stream",
     "text": [
      "[I 2024-11-17 02:14:05,738] Trial 58 finished with value: 7.537119251490679 and parameters: {'lstm_units': 82, 'dropout_rate': 0.43614043234662414, 'learning_rate': 0.004182323185243316, 'batch_size': 16, 'epochs': 178}. Best is trial 32 with value: 5.187206102549254.\n"
     ]
    },
    {
     "name": "stdout",
     "output_type": "stream",
     "text": [
      "\u001b[1m9/9\u001b[0m \u001b[32m━━━━━━━━━━━━━━━━━━━━\u001b[0m\u001b[37m\u001b[0m \u001b[1m0s\u001b[0m 27ms/step\n"
     ]
    },
    {
     "name": "stderr",
     "output_type": "stream",
     "text": [
      "[I 2024-11-17 02:16:01,246] Trial 59 finished with value: 6.222481884275182 and parameters: {'lstm_units': 83, 'dropout_rate': 0.45026481372438265, 'learning_rate': 0.00450005995952126, 'batch_size': 32, 'epochs': 144}. Best is trial 32 with value: 5.187206102549254.\n"
     ]
    },
    {
     "name": "stdout",
     "output_type": "stream",
     "text": [
      "\u001b[1m9/9\u001b[0m \u001b[32m━━━━━━━━━━━━━━━━━━━━\u001b[0m\u001b[37m\u001b[0m \u001b[1m0s\u001b[0m 37ms/step\n"
     ]
    },
    {
     "name": "stderr",
     "output_type": "stream",
     "text": [
      "[I 2024-11-17 02:19:17,157] Trial 60 finished with value: 6.019363221184488 and parameters: {'lstm_units': 82, 'dropout_rate': 0.44085474420241183, 'learning_rate': 0.00499894849582436, 'batch_size': 16, 'epochs': 169}. Best is trial 32 with value: 5.187206102549254.\n"
     ]
    },
    {
     "name": "stdout",
     "output_type": "stream",
     "text": [
      "\u001b[1m9/9\u001b[0m \u001b[32m━━━━━━━━━━━━━━━━━━━━\u001b[0m\u001b[37m\u001b[0m \u001b[1m0s\u001b[0m 28ms/step\n"
     ]
    },
    {
     "name": "stderr",
     "output_type": "stream",
     "text": [
      "[I 2024-11-17 02:21:36,487] Trial 61 finished with value: 5.823436054515301 and parameters: {'lstm_units': 78, 'dropout_rate': 0.4672378832830434, 'learning_rate': 0.00429380934125879, 'batch_size': 32, 'epochs': 186}. Best is trial 32 with value: 5.187206102549254.\n"
     ]
    },
    {
     "name": "stdout",
     "output_type": "stream",
     "text": [
      "\u001b[1m9/9\u001b[0m \u001b[32m━━━━━━━━━━━━━━━━━━━━\u001b[0m\u001b[37m\u001b[0m \u001b[1m0s\u001b[0m 29ms/step\n"
     ]
    },
    {
     "name": "stderr",
     "output_type": "stream",
     "text": [
      "[I 2024-11-17 02:24:03,310] Trial 62 finished with value: 6.01292097543243 and parameters: {'lstm_units': 79, 'dropout_rate': 0.4708493423774257, 'learning_rate': 0.004305306830079576, 'batch_size': 32, 'epochs': 191}. Best is trial 32 with value: 5.187206102549254.\n"
     ]
    },
    {
     "name": "stdout",
     "output_type": "stream",
     "text": [
      "\u001b[1m9/9\u001b[0m \u001b[32m━━━━━━━━━━━━━━━━━━━━\u001b[0m\u001b[37m\u001b[0m \u001b[1m0s\u001b[0m 34ms/step\n"
     ]
    },
    {
     "name": "stderr",
     "output_type": "stream",
     "text": [
      "[I 2024-11-17 02:26:24,602] Trial 63 finished with value: 5.656027279204096 and parameters: {'lstm_units': 80, 'dropout_rate': 0.4742705316442549, 'learning_rate': 0.004580871871662723, 'batch_size': 32, 'epochs': 180}. Best is trial 32 with value: 5.187206102549254.\n"
     ]
    },
    {
     "name": "stdout",
     "output_type": "stream",
     "text": [
      "\u001b[1m9/9\u001b[0m \u001b[32m━━━━━━━━━━━━━━━━━━━━\u001b[0m\u001b[37m\u001b[0m \u001b[1m0s\u001b[0m 32ms/step\n"
     ]
    },
    {
     "name": "stderr",
     "output_type": "stream",
     "text": [
      "[I 2024-11-17 02:28:38,312] Trial 64 finished with value: 5.153969000460726 and parameters: {'lstm_units': 78, 'dropout_rate': 0.4375723794875016, 'learning_rate': 0.00422063298445162, 'batch_size': 32, 'epochs': 176}. Best is trial 64 with value: 5.153969000460726.\n"
     ]
    },
    {
     "name": "stdout",
     "output_type": "stream",
     "text": [
      "\u001b[1m9/9\u001b[0m \u001b[32m━━━━━━━━━━━━━━━━━━━━\u001b[0m\u001b[37m\u001b[0m \u001b[1m0s\u001b[0m 28ms/step\n"
     ]
    },
    {
     "name": "stderr",
     "output_type": "stream",
     "text": [
      "[I 2024-11-17 02:30:50,515] Trial 65 finished with value: 6.841362195830116 and parameters: {'lstm_units': 78, 'dropout_rate': 0.4379673531053435, 'learning_rate': 0.004436954021947739, 'batch_size': 32, 'epochs': 175}. Best is trial 64 with value: 5.153969000460726.\n"
     ]
    },
    {
     "name": "stdout",
     "output_type": "stream",
     "text": [
      "\u001b[1m9/9\u001b[0m \u001b[32m━━━━━━━━━━━━━━━━━━━━\u001b[0m\u001b[37m\u001b[0m \u001b[1m0s\u001b[0m 29ms/step\n"
     ]
    },
    {
     "name": "stderr",
     "output_type": "stream",
     "text": [
      "[I 2024-11-17 02:32:51,153] Trial 66 finished with value: 5.375946858313709 and parameters: {'lstm_units': 78, 'dropout_rate': 0.43210273687548856, 'learning_rate': 0.004138897286209036, 'batch_size': 32, 'epochs': 160}. Best is trial 64 with value: 5.153969000460726.\n"
     ]
    },
    {
     "name": "stdout",
     "output_type": "stream",
     "text": [
      "\u001b[1m9/9\u001b[0m \u001b[32m━━━━━━━━━━━━━━━━━━━━\u001b[0m\u001b[37m\u001b[0m \u001b[1m1s\u001b[0m 37ms/step\n"
     ]
    },
    {
     "name": "stderr",
     "output_type": "stream",
     "text": [
      "[I 2024-11-17 02:34:51,571] Trial 67 finished with value: 5.680860861924981 and parameters: {'lstm_units': 78, 'dropout_rate': 0.4312631718497146, 'learning_rate': 0.004061959270717926, 'batch_size': 32, 'epochs': 159}. Best is trial 64 with value: 5.153969000460726.\n"
     ]
    },
    {
     "name": "stdout",
     "output_type": "stream",
     "text": [
      "\u001b[1m9/9\u001b[0m \u001b[32m━━━━━━━━━━━━━━━━━━━━\u001b[0m\u001b[37m\u001b[0m \u001b[1m0s\u001b[0m 32ms/step\n"
     ]
    },
    {
     "name": "stderr",
     "output_type": "stream",
     "text": [
      "[I 2024-11-17 02:37:46,183] Trial 68 finished with value: 5.817780640692128 and parameters: {'lstm_units': 78, 'dropout_rate': 0.4434707600793318, 'learning_rate': 0.004004513508649557, 'batch_size': 16, 'epochs': 154}. Best is trial 64 with value: 5.153969000460726.\n"
     ]
    },
    {
     "name": "stdout",
     "output_type": "stream",
     "text": [
      "\u001b[1m9/9\u001b[0m \u001b[32m━━━━━━━━━━━━━━━━━━━━\u001b[0m\u001b[37m\u001b[0m \u001b[1m1s\u001b[0m 38ms/step\n"
     ]
    },
    {
     "name": "stderr",
     "output_type": "stream",
     "text": [
      "[I 2024-11-17 02:39:39,560] Trial 69 finished with value: 6.1940042253583645 and parameters: {'lstm_units': 78, 'dropout_rate': 0.4348300145418011, 'learning_rate': 0.004952535830472961, 'batch_size': 32, 'epochs': 147}. Best is trial 64 with value: 5.153969000460726.\n"
     ]
    },
    {
     "name": "stdout",
     "output_type": "stream",
     "text": [
      "\u001b[1m9/9\u001b[0m \u001b[32m━━━━━━━━━━━━━━━━━━━━\u001b[0m\u001b[37m\u001b[0m \u001b[1m0s\u001b[0m 26ms/step\n"
     ]
    },
    {
     "name": "stderr",
     "output_type": "stream",
     "text": [
      "[I 2024-11-17 02:41:12,828] Trial 70 finished with value: 5.522438993424358 and parameters: {'lstm_units': 78, 'dropout_rate': 0.43222486849264985, 'learning_rate': 0.004154107161916819, 'batch_size': 32, 'epochs': 119}. Best is trial 64 with value: 5.153969000460726.\n"
     ]
    },
    {
     "name": "stdout",
     "output_type": "stream",
     "text": [
      "\u001b[1m9/9\u001b[0m \u001b[32m━━━━━━━━━━━━━━━━━━━━\u001b[0m\u001b[37m\u001b[0m \u001b[1m0s\u001b[0m 26ms/step\n"
     ]
    },
    {
     "name": "stderr",
     "output_type": "stream",
     "text": [
      "[I 2024-11-17 02:43:21,399] Trial 71 finished with value: 6.857562983714568 and parameters: {'lstm_units': 78, 'dropout_rate': 0.4376333872881182, 'learning_rate': 0.004204752115721112, 'batch_size': 32, 'epochs': 167}. Best is trial 64 with value: 5.153969000460726.\n"
     ]
    },
    {
     "name": "stdout",
     "output_type": "stream",
     "text": [
      "\u001b[1m9/9\u001b[0m \u001b[32m━━━━━━━━━━━━━━━━━━━━\u001b[0m\u001b[37m\u001b[0m \u001b[1m1s\u001b[0m 37ms/step\n"
     ]
    },
    {
     "name": "stderr",
     "output_type": "stream",
     "text": [
      "[I 2024-11-17 02:45:48,544] Trial 72 finished with value: 6.501505118036141 and parameters: {'lstm_units': 78, 'dropout_rate': 0.43260540724282076, 'learning_rate': 0.004240013383378318, 'batch_size': 32, 'epochs': 194}. Best is trial 64 with value: 5.153969000460726.\n"
     ]
    },
    {
     "name": "stdout",
     "output_type": "stream",
     "text": [
      "\u001b[1m9/9\u001b[0m \u001b[32m━━━━━━━━━━━━━━━━━━━━\u001b[0m\u001b[37m\u001b[0m \u001b[1m0s\u001b[0m 27ms/step\n"
     ]
    },
    {
     "name": "stderr",
     "output_type": "stream",
     "text": [
      "[I 2024-11-17 02:48:09,967] Trial 73 finished with value: 7.100864084710608 and parameters: {'lstm_units': 79, 'dropout_rate': 0.4354925641222246, 'learning_rate': 0.0041137006406852744, 'batch_size': 32, 'epochs': 182}. Best is trial 64 with value: 5.153969000460726.\n"
     ]
    },
    {
     "name": "stdout",
     "output_type": "stream",
     "text": [
      "\u001b[1m9/9\u001b[0m \u001b[32m━━━━━━━━━━━━━━━━━━━━\u001b[0m\u001b[37m\u001b[0m \u001b[1m0s\u001b[0m 27ms/step\n"
     ]
    },
    {
     "name": "stderr",
     "output_type": "stream",
     "text": [
      "[I 2024-11-17 02:50:30,595] Trial 74 finished with value: 5.684266509578004 and parameters: {'lstm_units': 83, 'dropout_rate': 0.4396406249623073, 'learning_rate': 0.004129891286878969, 'batch_size': 32, 'epochs': 172}. Best is trial 64 with value: 5.153969000460726.\n"
     ]
    },
    {
     "name": "stdout",
     "output_type": "stream",
     "text": [
      "\u001b[1m9/9\u001b[0m \u001b[32m━━━━━━━━━━━━━━━━━━━━\u001b[0m\u001b[37m\u001b[0m \u001b[1m0s\u001b[0m 29ms/step\n"
     ]
    },
    {
     "name": "stderr",
     "output_type": "stream",
     "text": [
      "[I 2024-11-17 02:53:08,915] Trial 75 finished with value: 7.975311483597143 and parameters: {'lstm_units': 81, 'dropout_rate': 0.4373002637919222, 'learning_rate': 0.004276322645753407, 'batch_size': 16, 'epochs': 138}. Best is trial 64 with value: 5.153969000460726.\n"
     ]
    },
    {
     "name": "stdout",
     "output_type": "stream",
     "text": [
      "\u001b[1m9/9\u001b[0m \u001b[32m━━━━━━━━━━━━━━━━━━━━\u001b[0m\u001b[37m\u001b[0m \u001b[1m1s\u001b[0m 37ms/step\n"
     ]
    },
    {
     "name": "stderr",
     "output_type": "stream",
     "text": [
      "[I 2024-11-17 02:55:33,214] Trial 76 finished with value: 6.104593692827997 and parameters: {'lstm_units': 78, 'dropout_rate': 0.4423947673197993, 'learning_rate': 0.004639446299291725, 'batch_size': 32, 'epochs': 187}. Best is trial 64 with value: 5.153969000460726.\n"
     ]
    },
    {
     "name": "stdout",
     "output_type": "stream",
     "text": [
      "\u001b[1m9/9\u001b[0m \u001b[32m━━━━━━━━━━━━━━━━━━━━\u001b[0m\u001b[37m\u001b[0m \u001b[1m0s\u001b[0m 32ms/step\n"
     ]
    },
    {
     "name": "stderr",
     "output_type": "stream",
     "text": [
      "[I 2024-11-17 02:57:35,629] Trial 77 finished with value: 8.638823713964895 and parameters: {'lstm_units': 78, 'dropout_rate': 0.43424779859087725, 'learning_rate': 0.004795951571451534, 'batch_size': 32, 'epochs': 164}. Best is trial 64 with value: 5.153969000460726.\n"
     ]
    },
    {
     "name": "stdout",
     "output_type": "stream",
     "text": [
      "\u001b[1m9/9\u001b[0m \u001b[32m━━━━━━━━━━━━━━━━━━━━\u001b[0m\u001b[37m\u001b[0m \u001b[1m0s\u001b[0m 29ms/step\n"
     ]
    },
    {
     "name": "stderr",
     "output_type": "stream",
     "text": [
      "[I 2024-11-17 03:00:55,292] Trial 78 finished with value: 6.079085776962394 and parameters: {'lstm_units': 79, 'dropout_rate': 0.44493686427092183, 'learning_rate': 0.004072853287130803, 'batch_size': 16, 'epochs': 176}. Best is trial 64 with value: 5.153969000460726.\n"
     ]
    },
    {
     "name": "stdout",
     "output_type": "stream",
     "text": [
      "\u001b[1m9/9\u001b[0m \u001b[32m━━━━━━━━━━━━━━━━━━━━\u001b[0m\u001b[37m\u001b[0m \u001b[1m0s\u001b[0m 30ms/step\n"
     ]
    },
    {
     "name": "stderr",
     "output_type": "stream",
     "text": [
      "[I 2024-11-17 03:03:31,075] Trial 79 finished with value: 5.174236347893633 and parameters: {'lstm_units': 83, 'dropout_rate': 0.45898138541985806, 'learning_rate': 0.0041766285600277455, 'batch_size': 32, 'epochs': 192}. Best is trial 64 with value: 5.153969000460726.\n"
     ]
    },
    {
     "name": "stdout",
     "output_type": "stream",
     "text": [
      "\u001b[1m9/9\u001b[0m \u001b[32m━━━━━━━━━━━━━━━━━━━━\u001b[0m\u001b[37m\u001b[0m \u001b[1m0s\u001b[0m 27ms/step\n"
     ]
    },
    {
     "name": "stderr",
     "output_type": "stream",
     "text": [
      "[I 2024-11-17 03:05:18,949] Trial 80 finished with value: 8.846966221576626 and parameters: {'lstm_units': 83, 'dropout_rate': 0.4605253447429074, 'learning_rate': 0.004169923358361028, 'batch_size': 32, 'epochs': 130}. Best is trial 64 with value: 5.153969000460726.\n"
     ]
    },
    {
     "name": "stdout",
     "output_type": "stream",
     "text": [
      "\u001b[1m9/9\u001b[0m \u001b[32m━━━━━━━━━━━━━━━━━━━━\u001b[0m\u001b[37m\u001b[0m \u001b[1m1s\u001b[0m 40ms/step\n"
     ]
    },
    {
     "name": "stderr",
     "output_type": "stream",
     "text": [
      "[I 2024-11-17 03:07:57,346] Trial 81 finished with value: 5.9470278124971125 and parameters: {'lstm_units': 83, 'dropout_rate': 0.4563198279560885, 'learning_rate': 0.004218348436391527, 'batch_size': 32, 'epochs': 192}. Best is trial 64 with value: 5.153969000460726.\n"
     ]
    },
    {
     "name": "stdout",
     "output_type": "stream",
     "text": [
      "\u001b[1m9/9\u001b[0m \u001b[32m━━━━━━━━━━━━━━━━━━━━\u001b[0m\u001b[37m\u001b[0m \u001b[1m0s\u001b[0m 28ms/step\n"
     ]
    },
    {
     "name": "stderr",
     "output_type": "stream",
     "text": [
      "[I 2024-11-17 03:10:38,742] Trial 82 finished with value: 7.625546585761761 and parameters: {'lstm_units': 83, 'dropout_rate': 0.458536440967074, 'learning_rate': 0.004191478463773602, 'batch_size': 32, 'epochs': 196}. Best is trial 64 with value: 5.153969000460726.\n"
     ]
    },
    {
     "name": "stdout",
     "output_type": "stream",
     "text": [
      "\u001b[1m9/9\u001b[0m \u001b[32m━━━━━━━━━━━━━━━━━━━━\u001b[0m\u001b[37m\u001b[0m \u001b[1m0s\u001b[0m 28ms/step\n"
     ]
    },
    {
     "name": "stderr",
     "output_type": "stream",
     "text": [
      "[I 2024-11-17 03:12:32,569] Trial 83 finished with value: 5.723037671629369 and parameters: {'lstm_units': 82, 'dropout_rate': 0.46557508292505284, 'learning_rate': 0.004273145298494095, 'batch_size': 32, 'epochs': 141}. Best is trial 64 with value: 5.153969000460726.\n"
     ]
    },
    {
     "name": "stdout",
     "output_type": "stream",
     "text": [
      "\u001b[1m9/9\u001b[0m \u001b[32m━━━━━━━━━━━━━━━━━━━━\u001b[0m\u001b[37m\u001b[0m \u001b[1m0s\u001b[0m 33ms/step\n"
     ]
    },
    {
     "name": "stderr",
     "output_type": "stream",
     "text": [
      "[I 2024-11-17 03:14:58,019] Trial 84 finished with value: 5.890540864133906 and parameters: {'lstm_units': 83, 'dropout_rate': 0.46210509601897115, 'learning_rate': 0.0041498808739940255, 'batch_size': 32, 'epochs': 181}. Best is trial 64 with value: 5.153969000460726.\n"
     ]
    },
    {
     "name": "stdout",
     "output_type": "stream",
     "text": [
      "\u001b[1m9/9\u001b[0m \u001b[32m━━━━━━━━━━━━━━━━━━━━\u001b[0m\u001b[37m\u001b[0m \u001b[1m0s\u001b[0m 28ms/step\n"
     ]
    },
    {
     "name": "stderr",
     "output_type": "stream",
     "text": [
      "[I 2024-11-17 03:17:16,604] Trial 85 finished with value: 6.701252335634048 and parameters: {'lstm_units': 78, 'dropout_rate': 0.4395543110536206, 'learning_rate': 0.004335446118611432, 'batch_size': 32, 'epochs': 184}. Best is trial 64 with value: 5.153969000460726.\n"
     ]
    },
    {
     "name": "stdout",
     "output_type": "stream",
     "text": [
      "\u001b[1m9/9\u001b[0m \u001b[32m━━━━━━━━━━━━━━━━━━━━\u001b[0m\u001b[37m\u001b[0m \u001b[1m0s\u001b[0m 29ms/step\n"
     ]
    },
    {
     "name": "stderr",
     "output_type": "stream",
     "text": [
      "[I 2024-11-17 03:21:10,458] Trial 86 finished with value: 9.374058339309345 and parameters: {'lstm_units': 82, 'dropout_rate': 0.43163167146760917, 'learning_rate': 0.004088407960078714, 'batch_size': 16, 'epochs': 200}. Best is trial 64 with value: 5.153969000460726.\n"
     ]
    },
    {
     "name": "stdout",
     "output_type": "stream",
     "text": [
      "\u001b[1m9/9\u001b[0m \u001b[32m━━━━━━━━━━━━━━━━━━━━\u001b[0m\u001b[37m\u001b[0m \u001b[1m0s\u001b[0m 28ms/step\n"
     ]
    },
    {
     "name": "stderr",
     "output_type": "stream",
     "text": [
      "[I 2024-11-17 03:23:51,194] Trial 87 finished with value: 7.479406410549842 and parameters: {'lstm_units': 81, 'dropout_rate': 0.47671467583769184, 'learning_rate': 0.00422617719591997, 'batch_size': 32, 'epochs': 191}. Best is trial 64 with value: 5.153969000460726.\n"
     ]
    },
    {
     "name": "stdout",
     "output_type": "stream",
     "text": [
      "\u001b[1m9/9\u001b[0m \u001b[32m━━━━━━━━━━━━━━━━━━━━\u001b[0m\u001b[37m\u001b[0m \u001b[1m0s\u001b[0m 26ms/step\n"
     ]
    },
    {
     "name": "stderr",
     "output_type": "stream",
     "text": [
      "[I 2024-11-17 03:26:35,028] Trial 88 finished with value: 5.5394968476255055 and parameters: {'lstm_units': 83, 'dropout_rate': 0.454749474148324, 'learning_rate': 0.004118393730687262, 'batch_size': 32, 'epochs': 197}. Best is trial 64 with value: 5.153969000460726.\n"
     ]
    },
    {
     "name": "stdout",
     "output_type": "stream",
     "text": [
      "\u001b[1m9/9\u001b[0m \u001b[32m━━━━━━━━━━━━━━━━━━━━\u001b[0m\u001b[37m\u001b[0m \u001b[1m0s\u001b[0m 31ms/step\n"
     ]
    },
    {
     "name": "stderr",
     "output_type": "stream",
     "text": [
      "[I 2024-11-17 03:30:10,015] Trial 89 finished with value: 7.388020156051358 and parameters: {'lstm_units': 78, 'dropout_rate': 0.4532667657371683, 'learning_rate': 0.004176857703487936, 'batch_size': 16, 'epochs': 179}. Best is trial 64 with value: 5.153969000460726.\n"
     ]
    },
    {
     "name": "stdout",
     "output_type": "stream",
     "text": [
      "\u001b[1m9/9\u001b[0m \u001b[32m━━━━━━━━━━━━━━━━━━━━\u001b[0m\u001b[37m\u001b[0m \u001b[1m0s\u001b[0m 36ms/step\n"
     ]
    },
    {
     "name": "stderr",
     "output_type": "stream",
     "text": [
      "[I 2024-11-17 03:32:12,353] Trial 90 finished with value: 8.213178740287901 and parameters: {'lstm_units': 82, 'dropout_rate': 0.45836949463377685, 'learning_rate': 0.0040490442545058495, 'batch_size': 32, 'epochs': 152}. Best is trial 64 with value: 5.153969000460726.\n"
     ]
    },
    {
     "name": "stdout",
     "output_type": "stream",
     "text": [
      "\u001b[1m9/9\u001b[0m \u001b[32m━━━━━━━━━━━━━━━━━━━━\u001b[0m\u001b[37m\u001b[0m \u001b[1m0s\u001b[0m 31ms/step\n"
     ]
    },
    {
     "name": "stderr",
     "output_type": "stream",
     "text": [
      "[I 2024-11-17 03:34:40,273] Trial 91 finished with value: 5.238252124343668 and parameters: {'lstm_units': 79, 'dropout_rate': 0.44614296530044567, 'learning_rate': 0.004359049554927251, 'batch_size': 32, 'epochs': 186}. Best is trial 64 with value: 5.153969000460726.\n"
     ]
    },
    {
     "name": "stdout",
     "output_type": "stream",
     "text": [
      "\u001b[1m9/9\u001b[0m \u001b[32m━━━━━━━━━━━━━━━━━━━━\u001b[0m\u001b[37m\u001b[0m \u001b[1m0s\u001b[0m 31ms/step\n"
     ]
    },
    {
     "name": "stderr",
     "output_type": "stream",
     "text": [
      "[I 2024-11-17 03:37:00,323] Trial 92 finished with value: 5.8029356160680665 and parameters: {'lstm_units': 78, 'dropout_rate': 0.43001989821093106, 'learning_rate': 0.004365608873582374, 'batch_size': 32, 'epochs': 186}. Best is trial 64 with value: 5.153969000460726.\n"
     ]
    },
    {
     "name": "stdout",
     "output_type": "stream",
     "text": [
      "\u001b[1m9/9\u001b[0m \u001b[32m━━━━━━━━━━━━━━━━━━━━\u001b[0m\u001b[37m\u001b[0m \u001b[1m0s\u001b[0m 28ms/step\n"
     ]
    },
    {
     "name": "stderr",
     "output_type": "stream",
     "text": [
      "[I 2024-11-17 03:39:29,514] Trial 93 finished with value: 5.4708105858262295 and parameters: {'lstm_units': 79, 'dropout_rate': 0.4471694519649049, 'learning_rate': 0.0042024791553398316, 'batch_size': 32, 'epochs': 194}. Best is trial 64 with value: 5.153969000460726.\n"
     ]
    },
    {
     "name": "stdout",
     "output_type": "stream",
     "text": [
      "\u001b[1m9/9\u001b[0m \u001b[32m━━━━━━━━━━━━━━━━━━━━\u001b[0m\u001b[37m\u001b[0m \u001b[1m0s\u001b[0m 29ms/step\n"
     ]
    },
    {
     "name": "stderr",
     "output_type": "stream",
     "text": [
      "[I 2024-11-17 03:41:12,946] Trial 94 finished with value: 6.582775152824327 and parameters: {'lstm_units': 78, 'dropout_rate': 0.450261668923662, 'learning_rate': 0.004247080069274075, 'batch_size': 32, 'epochs': 135}. Best is trial 64 with value: 5.153969000460726.\n"
     ]
    },
    {
     "name": "stdout",
     "output_type": "stream",
     "text": [
      "\u001b[1m9/9\u001b[0m \u001b[32m━━━━━━━━━━━━━━━━━━━━\u001b[0m\u001b[37m\u001b[0m \u001b[1m0s\u001b[0m 30ms/step\n"
     ]
    },
    {
     "name": "stderr",
     "output_type": "stream",
     "text": [
      "[I 2024-11-17 03:43:37,034] Trial 95 finished with value: 6.100671018248444 and parameters: {'lstm_units': 78, 'dropout_rate': 0.4490107957743215, 'learning_rate': 0.004279886268064435, 'batch_size': 32, 'epochs': 189}. Best is trial 64 with value: 5.153969000460726.\n"
     ]
    },
    {
     "name": "stdout",
     "output_type": "stream",
     "text": [
      "\u001b[1m9/9\u001b[0m \u001b[32m━━━━━━━━━━━━━━━━━━━━\u001b[0m\u001b[37m\u001b[0m \u001b[1m0s\u001b[0m 26ms/step\n"
     ]
    },
    {
     "name": "stderr",
     "output_type": "stream",
     "text": [
      "[I 2024-11-17 03:45:53,448] Trial 96 finished with value: 9.211252163552452 and parameters: {'lstm_units': 79, 'dropout_rate': 0.44636918136900705, 'learning_rate': 0.0043236228273534705, 'batch_size': 32, 'epochs': 174}. Best is trial 64 with value: 5.153969000460726.\n"
     ]
    },
    {
     "name": "stdout",
     "output_type": "stream",
     "text": [
      "\u001b[1m9/9\u001b[0m \u001b[32m━━━━━━━━━━━━━━━━━━━━\u001b[0m\u001b[37m\u001b[0m \u001b[1m1s\u001b[0m 37ms/step\n"
     ]
    },
    {
     "name": "stderr",
     "output_type": "stream",
     "text": [
      "[I 2024-11-17 03:49:22,894] Trial 97 finished with value: 10.996138741162072 and parameters: {'lstm_units': 80, 'dropout_rate': 0.4368301642093859, 'learning_rate': 0.004144846053280349, 'batch_size': 16, 'epochs': 182}. Best is trial 64 with value: 5.153969000460726.\n"
     ]
    },
    {
     "name": "stdout",
     "output_type": "stream",
     "text": [
      "\u001b[1m9/9\u001b[0m \u001b[32m━━━━━━━━━━━━━━━━━━━━\u001b[0m\u001b[37m\u001b[0m \u001b[1m0s\u001b[0m 30ms/step\n"
     ]
    },
    {
     "name": "stderr",
     "output_type": "stream",
     "text": [
      "[I 2024-11-17 03:51:32,515] Trial 98 finished with value: 9.365261698267012 and parameters: {'lstm_units': 78, 'dropout_rate': 0.46328505331479664, 'learning_rate': 0.0047013893176539616, 'batch_size': 32, 'epochs': 170}. Best is trial 64 with value: 5.153969000460726.\n"
     ]
    },
    {
     "name": "stdout",
     "output_type": "stream",
     "text": [
      "\u001b[1m9/9\u001b[0m \u001b[32m━━━━━━━━━━━━━━━━━━━━\u001b[0m\u001b[37m\u001b[0m \u001b[1m1s\u001b[0m 38ms/step\n"
     ]
    },
    {
     "name": "stderr",
     "output_type": "stream",
     "text": [
      "[I 2024-11-17 03:54:07,075] Trial 99 finished with value: 6.688106810581412 and parameters: {'lstm_units': 83, 'dropout_rate': 0.46894090699743796, 'learning_rate': 0.004267001183481356, 'batch_size': 32, 'epochs': 190}. Best is trial 64 with value: 5.153969000460726.\n"
     ]
    },
    {
     "name": "stdout",
     "output_type": "stream",
     "text": [
      "Best trial:\n",
      "  Value (MAPE): 5.153969000460726\n",
      "  Params:\n",
      "    lstm_units: 78\n",
      "    dropout_rate: 0.4375723794875016\n",
      "    learning_rate: 0.00422063298445162\n",
      "    batch_size: 32\n",
      "    epochs: 176\n"
     ]
    }
   ],
   "source": [
    "import numpy as np\n",
    "import pandas as pd\n",
    "import optuna\n",
    "from sklearn.preprocessing import MinMaxScaler\n",
    "from tensorflow.keras.models import Sequential\n",
    "from tensorflow.keras.layers import LSTM, Dense, Dropout, Input\n",
    "from tensorflow.keras.optimizers import Adam\n",
    "from sklearn.metrics import mean_absolute_percentage_error\n",
    "\n",
    "# Step 1: Load the data\n",
    "tesla_data = pd.read_csv('Clean_data/Cleaned_Tesla_Close.csv', parse_dates=['Date'], index_col='Date')\n",
    "sp500_data = pd.read_csv('Clean_data/Cleaned_SP500_Close.csv', parse_dates=['Date'], index_col='Date')\n",
    "ixic_data = pd.read_csv('Clean_data/Cleaned_IXIC_Close.csv', parse_dates=['Date'], index_col='Date')\n",
    "\n",
    "# Merge datasets on 'Date'\n",
    "merged_data = tesla_data.merge(sp500_data, left_index=True, right_index=True, suffixes=('', '_sp500'))\n",
    "merged_data = merged_data.merge(ixic_data, left_index=True, right_index=True, suffixes=('', '_ixic'))\n",
    "\n",
    "# Step 2: Preprocess the data\n",
    "data = merged_data[['Close_predicted', 'Close_predicted_sp500', 'Close_predicted_ixic']]\n",
    "\n",
    "# Scale the data after making it stationary\n",
    "scaler = MinMaxScaler()\n",
    "scaled_data = scaler.fit_transform(data.dropna())  # Ensure NaN values are removed after differencing\n",
    "# Prepare the dataset for LSTM\n",
    "def create_dataset(dataset, time_step=60):\n",
    "    X, y = [], []\n",
    "    for i in range(time_step, len(dataset)):\n",
    "        X.append(dataset[i - time_step:i])\n",
    "        y.append(dataset[i, 0])  # Predict the 'Close' price of Tesla\n",
    "    return np.array(X), np.array(y)\n",
    "\n",
    "time_step = 60\n",
    "X, y = create_dataset(scaled_data, time_step)\n",
    "\n",
    "# Split data into training and test sets\n",
    "train_size = int(len(X) * 0.8)\n",
    "X_train, X_test = X[:train_size], X[train_size:]\n",
    "y_train, y_test = y[:train_size], y[train_size:]\n",
    "\n",
    "\n",
    "# Function to create and train the LSTM model with Optuna\n",
    "def objective(trial):\n",
    "    # Hyperparameters to optimize\n",
    "    lstm_units = trial.suggest_int('lstm_units', 78, 83)\n",
    "    dropout_rate = trial.suggest_float('dropout_rate', 0.43, 0.48)\n",
    "    learning_rate = trial.suggest_float('learning_rate', 0.004, 0.005, log=True)\n",
    "    batch_size = trial.suggest_categorical('batch_size', [16, 32])\n",
    "    epochs = trial.suggest_int('epochs', 100, 200)\n",
    "\n",
    "    # Build the LSTM model\n",
    "    model = Sequential([\n",
    "        Input(shape=(time_step, X_train.shape[2])),\n",
    "        LSTM(lstm_units, return_sequences=True),\n",
    "        Dropout(dropout_rate),\n",
    "        LSTM(lstm_units),\n",
    "        Dropout(dropout_rate),\n",
    "        Dense(1)\n",
    "    ])\n",
    "    model.compile(optimizer=Adam(learning_rate=learning_rate), loss='mean_squared_error')\n",
    "\n",
    "    # Train the model\n",
    "    model.fit(X_train, y_train, epochs=epochs, batch_size=batch_size, verbose=0)\n",
    "\n",
    "    # Evaluate the model\n",
    "    test_predictions = model.predict(X_test)\n",
    "    test_predictions_rescaled = scaler.inverse_transform(\n",
    "        np.hstack([test_predictions, X_test[:, -1, 1:]])\n",
    "    )[:, 0]\n",
    "    y_test_rescaled = scaler.inverse_transform(\n",
    "        np.hstack([y_test.reshape(-1, 1), X_test[:, -1, 1:]])\n",
    "    )[:, 0]\n",
    "\n",
    "    # Calculate MAPE\n",
    "    mape = np.mean(np.abs((y_test_rescaled - test_predictions_rescaled) / y_test_rescaled)) * 100\n",
    "    return mape\n",
    "\n",
    "# Run the optimization\n",
    "study = optuna.create_study(direction='minimize')\n",
    "study.optimize(objective, n_trials=100)\n",
    "\n",
    "# Print the best hyperparameters\n",
    "print('Best trial:')\n",
    "trial = study.best_trial\n",
    "print(f'  Value (MAPE): {trial.value}')\n",
    "print('  Params:')\n",
    "for key, value in trial.params.items():\n",
    "    print(f'    {key}: {value}')\n"
   ]
  },
  {
   "cell_type": "code",
   "execution_count": null,
   "id": "9c92b739-f6e8-4a3e-90cc-2fb4a5e0264e",
   "metadata": {},
   "outputs": [],
   "source": []
  }
 ],
 "metadata": {
  "kernelspec": {
   "display_name": "Python 3 (ipykernel)",
   "language": "python",
   "name": "python3"
  },
  "language_info": {
   "codemirror_mode": {
    "name": "ipython",
    "version": 3
   },
   "file_extension": ".py",
   "mimetype": "text/x-python",
   "name": "python",
   "nbconvert_exporter": "python",
   "pygments_lexer": "ipython3",
   "version": "3.12.6"
  }
 },
 "nbformat": 4,
 "nbformat_minor": 5
}
