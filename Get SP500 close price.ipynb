{
 "cells": [
  {
   "cell_type": "code",
   "execution_count": 1,
   "id": "fc49af0d-1da9-4b46-ba64-d3f4da4433d4",
   "metadata": {},
   "outputs": [
    {
     "name": "stderr",
     "output_type": "stream",
     "text": [
      "[*********************100%***********************]  1 of 1 completed"
     ]
    },
    {
     "name": "stdout",
     "output_type": "stream",
     "text": [
      "\n",
      "Selected 'Close' column data:\n",
      " Date\n",
      "2019-01-02    2510.030029\n",
      "2019-01-03    2447.889893\n",
      "2019-01-04    2531.939941\n",
      "2019-01-07    2549.689941\n",
      "2019-01-08    2574.409912\n",
      "                 ...     \n",
      "2024-10-25    5808.120117\n",
      "2024-10-28    5823.520020\n",
      "2024-10-29    5832.919922\n",
      "2024-10-30    5813.669922\n",
      "2024-10-31    5705.450195\n",
      "Name: Close, Length: 1469, dtype: float64\n",
      "\n",
      "Data has been saved to 'S&P500_Close_2019_2024.csv'\n"
     ]
    },
    {
     "name": "stderr",
     "output_type": "stream",
     "text": [
      "\n"
     ]
    }
   ],
   "source": [
    "import yfinance as yf\n",
    "import pandas as pd\n",
    "import numpy as np\n",
    "import matplotlib.pyplot as plt\n",
    "from collections import Counter\n",
    "\n",
    "# Step 1: Download data for the past 5 years up to November 1, 2024\n",
    "data = yf.download(\"^GSPC\", start=\"2019-01-01\", end=\"2024-11-01\", interval=\"1d\")\n",
    "\n",
    "# Step 2: Select the 'Close' columns\n",
    "selected_columns = data['Close']\n",
    "print(\"\\nSelected 'Close' column data:\\n\", selected_columns)\n",
    "\n",
    "# Step 3: Export 'Close' column data to CSV\n",
    "selected_columns.to_csv(\"S&P500_Close_2019_2024.csv\", index=True)\n",
    "print(\"\\nData has been saved to 'S&P500_Close_2019_2024.csv'\")"
   ]
  },
  {
   "cell_type": "code",
   "execution_count": null,
   "id": "839760bb-3ed1-4fe7-b4ba-16e8779aeab4",
   "metadata": {},
   "outputs": [],
   "source": []
  }
 ],
 "metadata": {
  "kernelspec": {
   "display_name": "Python 3",
   "language": "python",
   "name": "python3"
  },
  "language_info": {
   "codemirror_mode": {
    "name": "ipython",
    "version": 3
   },
   "file_extension": ".py",
   "mimetype": "text/x-python",
   "name": "python",
   "nbconvert_exporter": "python",
   "pygments_lexer": "ipython3",
   "version": "3.12.6"
  }
 },
 "nbformat": 4,
 "nbformat_minor": 5
}
