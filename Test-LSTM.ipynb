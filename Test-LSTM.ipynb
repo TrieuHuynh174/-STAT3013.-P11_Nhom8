{
 "cells": [
  {
   "cell_type": "code",
   "execution_count": 1,
   "id": "68de1405-db05-48e9-acad-8a443a8ca30c",
   "metadata": {
    "scrolled": true
   },
   "outputs": [
    {
     "ename": "ModuleNotFoundError",
     "evalue": "No module named 'tensorflow'",
     "output_type": "error",
     "traceback": [
      "\u001b[1;31m---------------------------------------------------------------------------\u001b[0m",
      "\u001b[1;31mModuleNotFoundError\u001b[0m                       Traceback (most recent call last)",
      "Cell \u001b[1;32mIn[1], line 5\u001b[0m\n\u001b[0;32m      3\u001b[0m \u001b[38;5;28;01mfrom\u001b[39;00m \u001b[38;5;21;01msklearn\u001b[39;00m\u001b[38;5;21;01m.\u001b[39;00m\u001b[38;5;21;01mpreprocessing\u001b[39;00m \u001b[38;5;28;01mimport\u001b[39;00m MinMaxScaler\n\u001b[0;32m      4\u001b[0m \u001b[38;5;28;01mfrom\u001b[39;00m \u001b[38;5;21;01msklearn\u001b[39;00m\u001b[38;5;21;01m.\u001b[39;00m\u001b[38;5;21;01mmetrics\u001b[39;00m \u001b[38;5;28;01mimport\u001b[39;00m mean_absolute_percentage_error\n\u001b[1;32m----> 5\u001b[0m \u001b[38;5;28;01mfrom\u001b[39;00m \u001b[38;5;21;01mtensorflow\u001b[39;00m\u001b[38;5;21;01m.\u001b[39;00m\u001b[38;5;21;01mkeras\u001b[39;00m\u001b[38;5;21;01m.\u001b[39;00m\u001b[38;5;21;01mmodels\u001b[39;00m \u001b[38;5;28;01mimport\u001b[39;00m Sequential\n\u001b[0;32m      6\u001b[0m \u001b[38;5;28;01mfrom\u001b[39;00m \u001b[38;5;21;01mtensorflow\u001b[39;00m\u001b[38;5;21;01m.\u001b[39;00m\u001b[38;5;21;01mkeras\u001b[39;00m\u001b[38;5;21;01m.\u001b[39;00m\u001b[38;5;21;01mlayers\u001b[39;00m \u001b[38;5;28;01mimport\u001b[39;00m LSTM, Dense, Dropout\n\u001b[0;32m      7\u001b[0m \u001b[38;5;28;01mimport\u001b[39;00m \u001b[38;5;21;01mmatplotlib\u001b[39;00m\u001b[38;5;21;01m.\u001b[39;00m\u001b[38;5;21;01mpyplot\u001b[39;00m \u001b[38;5;28;01mas\u001b[39;00m \u001b[38;5;21;01mplt\u001b[39;00m\n",
      "\u001b[1;31mModuleNotFoundError\u001b[0m: No module named 'tensorflow'"
     ]
    }
   ],
   "source": [
    "import numpy as np\n",
    "import pandas as pd\n",
    "from sklearn.preprocessing import MinMaxScaler\n",
    "from sklearn.metrics import mean_absolute_percentage_error\n",
    "from tensorflow.keras.models import Sequential\n",
    "from tensorflow.keras.layers import LSTM, Dense, Dropout\n",
    "import matplotlib.pyplot as plt\n",
    "\n",
    "# Load the data\n",
    "tesla_data = pd.read_csv('Tesla_Close_2019_2024.csv', parse_dates=['Date'], index_col='Date')\n",
    "sp500_data = pd.read_csv('S&P500_Close_2019_2024.csv', parse_dates=['Date'], index_col='Date')\n",
    "ixic_data = pd.read_csv('IXIC_Close_2019_2024.csv', parse_dates=['Date'], index_col='Date')\n",
    "\n",
    "# Merge datasets on 'Date'\n",
    "merged_data = tesla_data.merge(sp500_data, left_index=True, right_index=True, suffixes=('', '_sp500'))\n",
    "merged_data = merged_data.merge(ixic_data, left_index=True, right_index=True, suffixes=('', '_ixic'))\n",
    "\n",
    "# Preprocess the data\n",
    "data = merged_data[['Close', 'Close_sp500', 'Close_ixic']]\n",
    "scaler = MinMaxScaler()\n",
    "scaled_data = scaler.fit_transform(data)\n",
    "\n",
    "# Create the dataset function\n",
    "def create_dataset(dataset, time_step=60):\n",
    "    X, y = [], []\n",
    "    for i in range(time_step, len(dataset)):\n",
    "        X.append(dataset[i-time_step:i])\n",
    "        y.append(dataset[i, 0])  # Predict the 'Close' price\n",
    "    return np.array(X), np.array(y)\n",
    "\n",
    "# Create training and testing datasets\n",
    "time_step = 60\n",
    "train_size = int(len(scaled_data) * 0.8)\n",
    "train_data = scaled_data[:train_size]\n",
    "test_data = scaled_data[train_size - time_step:]\n",
    "\n",
    "X_train, y_train = create_dataset(train_data, time_step)\n",
    "X_test, y_test = create_dataset(test_data, time_step)\n",
    "\n",
    "# Build the LSTM model with optimized hyperparameters\n",
    "model = Sequential([\n",
    "    LSTM(units=100, return_sequences=True, input_shape=(X_train.shape[1], X_train.shape[2])),\n",
    "    Dropout(0.2),\n",
    "    LSTM(units=50, return_sequences=False),\n",
    "    Dropout(0.2),\n",
    "    Dense(1)\n",
    "])\n",
    "\n",
    "model.compile(optimizer='adam', loss='mean_squared_error')\n",
    "model.fit(X_train, y_train, epochs=50, batch_size=32, validation_data=(X_test, y_test))\n",
    "\n",
    "# Make predictions\n",
    "train_predictions = model.predict(X_train)\n",
    "test_predictions = model.predict(X_test)\n",
    "\n",
    "# Rescale predictions back to original scale\n",
    "train_predictions_rescaled = scaler.inverse_transform(\n",
    "    np.hstack([train_predictions, X_train[:, -1, 1:]])\n",
    ")[:, 0]\n",
    "test_predictions_rescaled = scaler.inverse_transform(\n",
    "    np.hstack([test_predictions, X_test[:, -1, 1:]])\n",
    ")[:, 0]\n",
    "\n",
    "# Calculate RMPE\n",
    "def rmpe(y_true, y_pred):\n",
    "    return np.sqrt(mean_absolute_percentage_error(y_true, y_pred))\n",
    "\n",
    "train_rmpe = rmpe(merged_data['Close'].values[time_step:train_size], train_predictions_rescaled)\n",
    "test_rmpe = rmpe(merged_data['Close'].values[train_size:], test_predictions_rescaled)\n",
    "print(f\"Training RMPE: {train_rmpe:.4f}\")\n",
    "print(f\"Testing RMPE: {test_rmpe:.4f}\")\n",
    "\n",
    "# Visualize actual vs. predicted\n",
    "plt.figure(figsize=(14, 6))\n",
    "plt.plot(merged_data.index, merged_data['Close'], label='Actual Data')\n",
    "plt.plot(merged_data.index[time_step:train_size], train_predictions_rescaled, label='Predicted Training Data')\n",
    "plt.plot(merged_data.index[train_size:], test_predictions_rescaled, label='Predicted Test Data')\n",
    "plt.title('Actual vs. Predicted Tesla Stock Prices')\n",
    "plt.xlabel('Date')\n",
    "plt.ylabel('Stock Price (USD)')\n",
    "plt.legend()\n",
    "plt.show()\n"
   ]
  },
  {
   "cell_type": "code",
   "execution_count": null,
   "id": "163050b0-af19-4e89-a277-2d0d5f553e37",
   "metadata": {},
   "outputs": [],
   "source": [
    "p"
   ]
  }
 ],
 "metadata": {
  "kernelspec": {
   "display_name": "Python 3 (ipykernel)",
   "language": "python",
   "name": "python3"
  },
  "language_info": {
   "codemirror_mode": {
    "name": "ipython",
    "version": 3
   },
   "file_extension": ".py",
   "mimetype": "text/x-python",
   "name": "python",
   "nbconvert_exporter": "python",
   "pygments_lexer": "ipython3",
   "version": "3.13.0"
  }
 },
 "nbformat": 4,
 "nbformat_minor": 5
}
