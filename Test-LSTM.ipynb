{
 "cells": [
  {
   "cell_type": "code",
   "execution_count": 4,
   "id": "17be81c9-5736-4435-aeb1-6836fddc4ab7",
   "metadata": {},
   "outputs": [
    {
     "name": "stderr",
     "output_type": "stream",
     "text": [
      "D:\\Python\\Lib\\site-packages\\tqdm\\auto.py:21: TqdmWarning: IProgress not found. Please update jupyter and ipywidgets. See https://ipywidgets.readthedocs.io/en/stable/user_install.html\n",
      "  from .autonotebook import tqdm as notebook_tqdm\n",
      "[I 2024-11-16 16:45:27,627] A new study created in memory with name: no-name-3d7f2c11-8bb3-4bcd-a644-0788d78c19bc\n"
     ]
    },
    {
     "name": "stdout",
     "output_type": "stream",
     "text": [
      "\u001b[1m9/9\u001b[0m \u001b[32m━━━━━━━━━━━━━━━━━━━━\u001b[0m\u001b[37m\u001b[0m \u001b[1m1s\u001b[0m 43ms/step\n"
     ]
    },
    {
     "name": "stderr",
     "output_type": "stream",
     "text": [
      "[I 2024-11-16 16:45:41,463] Trial 0 finished with value: 16.484965196435454 and parameters: {'lstm_units': 40, 'dropout_rate': 0.36096636626618184, 'learning_rate': 0.0008182358133305553, 'batch_size': 32, 'epochs': 13}. Best is trial 0 with value: 16.484965196435454.\n"
     ]
    },
    {
     "name": "stdout",
     "output_type": "stream",
     "text": [
      "\u001b[1m9/9\u001b[0m \u001b[32m━━━━━━━━━━━━━━━━━━━━\u001b[0m\u001b[37m\u001b[0m \u001b[1m1s\u001b[0m 43ms/step\n"
     ]
    },
    {
     "name": "stderr",
     "output_type": "stream",
     "text": [
      "[I 2024-11-16 16:46:07,472] Trial 1 finished with value: 15.064377760387416 and parameters: {'lstm_units': 34, 'dropout_rate': 0.4165979108117278, 'learning_rate': 0.002084822690787443, 'batch_size': 64, 'epochs': 46}. Best is trial 1 with value: 15.064377760387416.\n"
     ]
    },
    {
     "name": "stdout",
     "output_type": "stream",
     "text": [
      "\u001b[1m9/9\u001b[0m \u001b[32m━━━━━━━━━━━━━━━━━━━━\u001b[0m\u001b[37m\u001b[0m \u001b[1m1s\u001b[0m 43ms/step\n"
     ]
    },
    {
     "name": "stderr",
     "output_type": "stream",
     "text": [
      "[I 2024-11-16 16:48:15,244] Trial 2 finished with value: 15.243366298020455 and parameters: {'lstm_units': 61, 'dropout_rate': 0.12218550360494312, 'learning_rate': 0.0008079885811268515, 'batch_size': 16, 'epochs': 75}. Best is trial 1 with value: 15.064377760387416.\n"
     ]
    },
    {
     "name": "stdout",
     "output_type": "stream",
     "text": [
      "\u001b[1m9/9\u001b[0m \u001b[32m━━━━━━━━━━━━━━━━━━━━\u001b[0m\u001b[37m\u001b[0m \u001b[1m1s\u001b[0m 42ms/step\n"
     ]
    },
    {
     "name": "stderr",
     "output_type": "stream",
     "text": [
      "[I 2024-11-16 16:49:11,693] Trial 3 finished with value: 14.999209012925128 and parameters: {'lstm_units': 62, 'dropout_rate': 0.2393735886510942, 'learning_rate': 0.0002474772991690757, 'batch_size': 16, 'epochs': 32}. Best is trial 3 with value: 14.999209012925128.\n"
     ]
    },
    {
     "name": "stdout",
     "output_type": "stream",
     "text": [
      "\u001b[1m9/9\u001b[0m \u001b[32m━━━━━━━━━━━━━━━━━━━━\u001b[0m\u001b[37m\u001b[0m \u001b[1m1s\u001b[0m 41ms/step\n"
     ]
    },
    {
     "name": "stderr",
     "output_type": "stream",
     "text": [
      "[I 2024-11-16 16:49:59,472] Trial 4 finished with value: 18.958923291700177 and parameters: {'lstm_units': 36, 'dropout_rate': 0.43510963107629097, 'learning_rate': 0.004674656121258941, 'batch_size': 32, 'epochs': 56}. Best is trial 3 with value: 14.999209012925128.\n"
     ]
    },
    {
     "name": "stdout",
     "output_type": "stream",
     "text": [
      "\u001b[1m9/9\u001b[0m \u001b[32m━━━━━━━━━━━━━━━━━━━━\u001b[0m\u001b[37m\u001b[0m \u001b[1m1s\u001b[0m 42ms/step\n"
     ]
    },
    {
     "name": "stderr",
     "output_type": "stream",
     "text": [
      "[I 2024-11-16 16:50:49,964] Trial 5 finished with value: 25.39419655599135 and parameters: {'lstm_units': 15, 'dropout_rate': 0.17900979443595913, 'learning_rate': 1.8235453804619426e-05, 'batch_size': 16, 'epochs': 38}. Best is trial 3 with value: 14.999209012925128.\n"
     ]
    },
    {
     "name": "stdout",
     "output_type": "stream",
     "text": [
      "\u001b[1m9/9\u001b[0m \u001b[32m━━━━━━━━━━━━━━━━━━━━\u001b[0m\u001b[37m\u001b[0m \u001b[1m1s\u001b[0m 46ms/step\n"
     ]
    },
    {
     "name": "stderr",
     "output_type": "stream",
     "text": [
      "[I 2024-11-16 16:52:39,267] Trial 6 finished with value: 11.271173308472681 and parameters: {'lstm_units': 41, 'dropout_rate': 0.32596027777518466, 'learning_rate': 0.002932524591153235, 'batch_size': 16, 'epochs': 72}. Best is trial 6 with value: 11.271173308472681.\n"
     ]
    },
    {
     "name": "stdout",
     "output_type": "stream",
     "text": [
      "\u001b[1m9/9\u001b[0m \u001b[32m━━━━━━━━━━━━━━━━━━━━\u001b[0m\u001b[37m\u001b[0m \u001b[1m1s\u001b[0m 48ms/step\n"
     ]
    },
    {
     "name": "stderr",
     "output_type": "stream",
     "text": [
      "[I 2024-11-16 16:53:46,209] Trial 7 finished with value: 15.913184873186136 and parameters: {'lstm_units': 91, 'dropout_rate': 0.10032825792539396, 'learning_rate': 0.0001691982046894646, 'batch_size': 32, 'epochs': 46}. Best is trial 6 with value: 11.271173308472681.\n"
     ]
    },
    {
     "name": "stdout",
     "output_type": "stream",
     "text": [
      "\u001b[1m9/9\u001b[0m \u001b[32m━━━━━━━━━━━━━━━━━━━━\u001b[0m\u001b[37m\u001b[0m \u001b[1m1s\u001b[0m 48ms/step\n"
     ]
    },
    {
     "name": "stderr",
     "output_type": "stream",
     "text": [
      "[I 2024-11-16 16:55:18,612] Trial 8 finished with value: 14.406925131016907 and parameters: {'lstm_units': 93, 'dropout_rate': 0.11079313674226965, 'learning_rate': 0.00026281339322224473, 'batch_size': 32, 'epochs': 62}. Best is trial 6 with value: 11.271173308472681.\n"
     ]
    },
    {
     "name": "stdout",
     "output_type": "stream",
     "text": [
      "\u001b[1m9/9\u001b[0m \u001b[32m━━━━━━━━━━━━━━━━━━━━\u001b[0m\u001b[37m\u001b[0m \u001b[1m1s\u001b[0m 41ms/step\n"
     ]
    },
    {
     "name": "stderr",
     "output_type": "stream",
     "text": [
      "[I 2024-11-16 16:56:02,188] Trial 9 finished with value: 10.781967665656074 and parameters: {'lstm_units': 51, 'dropout_rate': 0.27773509097671834, 'learning_rate': 0.0020382841652555658, 'batch_size': 16, 'epochs': 25}. Best is trial 9 with value: 10.781967665656074.\n"
     ]
    },
    {
     "name": "stdout",
     "output_type": "stream",
     "text": [
      "\u001b[1m9/9\u001b[0m \u001b[32m━━━━━━━━━━━━━━━━━━━━\u001b[0m\u001b[37m\u001b[0m \u001b[1m1s\u001b[0m 44ms/step\n"
     ]
    },
    {
     "name": "stderr",
     "output_type": "stream",
     "text": [
      "[I 2024-11-16 16:56:16,609] Trial 10 finished with value: 17.1992674968324 and parameters: {'lstm_units': 76, 'dropout_rate': 0.2566978493023858, 'learning_rate': 0.008656756132277022, 'batch_size': 64, 'epochs': 13}. Best is trial 9 with value: 10.781967665656074.\n"
     ]
    },
    {
     "name": "stdout",
     "output_type": "stream",
     "text": [
      "\u001b[1m9/9\u001b[0m \u001b[32m━━━━━━━━━━━━━━━━━━━━\u001b[0m\u001b[37m\u001b[0m \u001b[1m1s\u001b[0m 42ms/step\n"
     ]
    },
    {
     "name": "stderr",
     "output_type": "stream",
     "text": [
      "[I 2024-11-16 16:58:38,812] Trial 11 finished with value: 9.937871383790172 and parameters: {'lstm_units': 47, 'dropout_rate': 0.3269072869098717, 'learning_rate': 0.0020232145364293577, 'batch_size': 16, 'epochs': 92}. Best is trial 11 with value: 9.937871383790172.\n"
     ]
    },
    {
     "name": "stdout",
     "output_type": "stream",
     "text": [
      "\u001b[1m9/9\u001b[0m \u001b[32m━━━━━━━━━━━━━━━━━━━━\u001b[0m\u001b[37m\u001b[0m \u001b[1m1s\u001b[0m 42ms/step\n"
     ]
    },
    {
     "name": "stderr",
     "output_type": "stream",
     "text": [
      "[I 2024-11-16 17:01:17,962] Trial 12 finished with value: 8.509432236765758 and parameters: {'lstm_units': 53, 'dropout_rate': 0.2692443564327529, 'learning_rate': 0.001099003730699956, 'batch_size': 16, 'epochs': 99}. Best is trial 12 with value: 8.509432236765758.\n"
     ]
    },
    {
     "name": "stdout",
     "output_type": "stream",
     "text": [
      "\u001b[1m9/9\u001b[0m \u001b[32m━━━━━━━━━━━━━━━━━━━━\u001b[0m\u001b[37m\u001b[0m \u001b[1m1s\u001b[0m 85ms/step\n"
     ]
    },
    {
     "name": "stderr",
     "output_type": "stream",
     "text": [
      "[I 2024-11-16 17:03:26,429] Trial 13 finished with value: 16.567703708673843 and parameters: {'lstm_units': 20, 'dropout_rate': 0.3654426508119389, 'learning_rate': 7.216868584435019e-05, 'batch_size': 16, 'epochs': 98}. Best is trial 12 with value: 8.509432236765758.\n"
     ]
    },
    {
     "name": "stdout",
     "output_type": "stream",
     "text": [
      "\u001b[1m9/9\u001b[0m \u001b[32m━━━━━━━━━━━━━━━━━━━━\u001b[0m\u001b[37m\u001b[0m \u001b[1m1s\u001b[0m 44ms/step\n"
     ]
    },
    {
     "name": "stderr",
     "output_type": "stream",
     "text": [
      "[I 2024-11-16 17:06:18,705] Trial 14 finished with value: 9.91708180931114 and parameters: {'lstm_units': 76, 'dropout_rate': 0.48311321000027385, 'learning_rate': 0.0008272724114714233, 'batch_size': 16, 'epochs': 97}. Best is trial 12 with value: 8.509432236765758.\n"
     ]
    },
    {
     "name": "stdout",
     "output_type": "stream",
     "text": [
      "\u001b[1m9/9\u001b[0m \u001b[32m━━━━━━━━━━━━━━━━━━━━\u001b[0m\u001b[37m\u001b[0m \u001b[1m1s\u001b[0m 45ms/step\n"
     ]
    },
    {
     "name": "stderr",
     "output_type": "stream",
     "text": [
      "[I 2024-11-16 17:08:54,137] Trial 15 finished with value: 15.745987670901343 and parameters: {'lstm_units': 76, 'dropout_rate': 0.49721904210365364, 'learning_rate': 0.0005423442420848996, 'batch_size': 16, 'epochs': 86}. Best is trial 12 with value: 8.509432236765758.\n"
     ]
    },
    {
     "name": "stdout",
     "output_type": "stream",
     "text": [
      "\u001b[1m9/9\u001b[0m \u001b[32m━━━━━━━━━━━━━━━━━━━━\u001b[0m\u001b[37m\u001b[0m \u001b[1m1s\u001b[0m 45ms/step\n"
     ]
    },
    {
     "name": "stderr",
     "output_type": "stream",
     "text": [
      "[I 2024-11-16 17:10:06,377] Trial 16 finished with value: 22.118553214684056 and parameters: {'lstm_units': 76, 'dropout_rate': 0.20635600712283336, 'learning_rate': 8.495394857765075e-05, 'batch_size': 64, 'epochs': 82}. Best is trial 12 with value: 8.509432236765758.\n"
     ]
    },
    {
     "name": "stdout",
     "output_type": "stream",
     "text": [
      "\u001b[1m9/9\u001b[0m \u001b[32m━━━━━━━━━━━━━━━━━━━━\u001b[0m\u001b[37m\u001b[0m \u001b[1m1s\u001b[0m 43ms/step\n"
     ]
    },
    {
     "name": "stderr",
     "output_type": "stream",
     "text": [
      "[I 2024-11-16 17:12:54,238] Trial 17 finished with value: 9.272056373827798 and parameters: {'lstm_units': 65, 'dropout_rate': 0.49032037877115964, 'learning_rate': 0.000898864815020876, 'batch_size': 16, 'epochs': 98}. Best is trial 12 with value: 8.509432236765758.\n"
     ]
    },
    {
     "name": "stdout",
     "output_type": "stream",
     "text": [
      "\u001b[1m9/9\u001b[0m \u001b[32m━━━━━━━━━━━━━━━━━━━━\u001b[0m\u001b[37m\u001b[0m \u001b[1m1s\u001b[0m 43ms/step\n"
     ]
    },
    {
     "name": "stderr",
     "output_type": "stream",
     "text": [
      "[I 2024-11-16 17:14:50,185] Trial 18 finished with value: 26.076171172415997 and parameters: {'lstm_units': 63, 'dropout_rate': 0.1820082163727038, 'learning_rate': 1.336750619430504e-05, 'batch_size': 16, 'epochs': 69}. Best is trial 12 with value: 8.509432236765758.\n"
     ]
    },
    {
     "name": "stdout",
     "output_type": "stream",
     "text": [
      "\u001b[1m9/9\u001b[0m \u001b[32m━━━━━━━━━━━━━━━━━━━━\u001b[0m\u001b[37m\u001b[0m \u001b[1m1s\u001b[0m 39ms/step\n"
     ]
    },
    {
     "name": "stderr",
     "output_type": "stream",
     "text": [
      "[I 2024-11-16 17:15:26,578] Trial 19 finished with value: 47.06827828517788 and parameters: {'lstm_units': 24, 'dropout_rate': 0.41605896765075945, 'learning_rate': 9.745961350661471e-05, 'batch_size': 64, 'epochs': 82}. Best is trial 12 with value: 8.509432236765758.\n"
     ]
    },
    {
     "name": "stdout",
     "output_type": "stream",
     "text": [
      "\u001b[1m9/9\u001b[0m \u001b[32m━━━━━━━━━━━━━━━━━━━━\u001b[0m\u001b[37m\u001b[0m \u001b[1m1s\u001b[0m 45ms/step\n"
     ]
    },
    {
     "name": "stderr",
     "output_type": "stream",
     "text": [
      "[I 2024-11-16 17:18:04,514] Trial 20 finished with value: 8.569379974088971 and parameters: {'lstm_units': 67, 'dropout_rate': 0.30829231914417465, 'learning_rate': 0.007972120393379889, 'batch_size': 16, 'epochs': 92}. Best is trial 12 with value: 8.509432236765758.\n"
     ]
    },
    {
     "name": "stdout",
     "output_type": "stream",
     "text": [
      "\u001b[1m9/9\u001b[0m \u001b[32m━━━━━━━━━━━━━━━━━━━━\u001b[0m\u001b[37m\u001b[0m \u001b[1m1s\u001b[0m 40ms/step\n"
     ]
    },
    {
     "name": "stderr",
     "output_type": "stream",
     "text": [
      "[I 2024-11-16 17:19:58,175] Trial 21 finished with value: 9.129617019603948 and parameters: {'lstm_units': 68, 'dropout_rate': 0.2999888885930851, 'learning_rate': 0.004643087939915903, 'batch_size': 16, 'epochs': 100}. Best is trial 12 with value: 8.509432236765758.\n"
     ]
    },
    {
     "name": "stdout",
     "output_type": "stream",
     "text": [
      "\u001b[1m9/9\u001b[0m \u001b[32m━━━━━━━━━━━━━━━━━━━━\u001b[0m\u001b[37m\u001b[0m \u001b[1m0s\u001b[0m 26ms/step\n"
     ]
    },
    {
     "name": "stderr",
     "output_type": "stream",
     "text": [
      "[I 2024-11-16 17:21:39,705] Trial 22 finished with value: 11.444156929808612 and parameters: {'lstm_units': 85, 'dropout_rate': 0.3029919878106937, 'learning_rate': 0.00643267117328769, 'batch_size': 16, 'epochs': 86}. Best is trial 12 with value: 8.509432236765758.\n"
     ]
    },
    {
     "name": "stdout",
     "output_type": "stream",
     "text": [
      "\u001b[1m9/9\u001b[0m \u001b[32m━━━━━━━━━━━━━━━━━━━━\u001b[0m\u001b[37m\u001b[0m \u001b[1m0s\u001b[0m 34ms/step\n"
     ]
    },
    {
     "name": "stderr",
     "output_type": "stream",
     "text": [
      "[I 2024-11-16 17:23:12,826] Trial 23 finished with value: 10.60633085527837 and parameters: {'lstm_units': 68, 'dropout_rate': 0.2319432320865144, 'learning_rate': 0.0036983368866022348, 'batch_size': 16, 'epochs': 89}. Best is trial 12 with value: 8.509432236765758.\n"
     ]
    },
    {
     "name": "stdout",
     "output_type": "stream",
     "text": [
      "\u001b[1m9/9\u001b[0m \u001b[32m━━━━━━━━━━━━━━━━━━━━\u001b[0m\u001b[37m\u001b[0m \u001b[1m1s\u001b[0m 36ms/step\n"
     ]
    },
    {
     "name": "stderr",
     "output_type": "stream",
     "text": [
      "[I 2024-11-16 17:24:49,937] Trial 24 finished with value: 9.937028024558023 and parameters: {'lstm_units': 54, 'dropout_rate': 0.2861946880097584, 'learning_rate': 0.009446582447682811, 'batch_size': 16, 'epochs': 100}. Best is trial 12 with value: 8.509432236765758.\n"
     ]
    },
    {
     "name": "stdout",
     "output_type": "stream",
     "text": [
      "\u001b[1m9/9\u001b[0m \u001b[32m━━━━━━━━━━━━━━━━━━━━\u001b[0m\u001b[37m\u001b[0m \u001b[1m0s\u001b[0m 36ms/step\n"
     ]
    },
    {
     "name": "stderr",
     "output_type": "stream",
     "text": [
      "[I 2024-11-16 17:26:20,354] Trial 25 finished with value: 9.284345000816494 and parameters: {'lstm_units': 85, 'dropout_rate': 0.35303804375107284, 'learning_rate': 0.0015754487400620632, 'batch_size': 16, 'epochs': 79}. Best is trial 12 with value: 8.509432236765758.\n"
     ]
    },
    {
     "name": "stdout",
     "output_type": "stream",
     "text": [
      "\u001b[1m9/9\u001b[0m \u001b[32m━━━━━━━━━━━━━━━━━━━━\u001b[0m\u001b[37m\u001b[0m \u001b[1m1s\u001b[0m 32ms/step\n"
     ]
    },
    {
     "name": "stderr",
     "output_type": "stream",
     "text": [
      "[I 2024-11-16 17:28:25,464] Trial 26 finished with value: 12.461990680844776 and parameters: {'lstm_units': 100, 'dropout_rate': 0.30163021309614785, 'learning_rate': 0.0049080780926492665, 'batch_size': 16, 'epochs': 92}. Best is trial 12 with value: 8.509432236765758.\n"
     ]
    },
    {
     "name": "stdout",
     "output_type": "stream",
     "text": [
      "\u001b[1m9/9\u001b[0m \u001b[32m━━━━━━━━━━━━━━━━━━━━\u001b[0m\u001b[37m\u001b[0m \u001b[1m0s\u001b[0m 31ms/step\n"
     ]
    },
    {
     "name": "stderr",
     "output_type": "stream",
     "text": [
      "[I 2024-11-16 17:29:32,174] Trial 27 finished with value: 15.399150401818792 and parameters: {'lstm_units': 57, 'dropout_rate': 0.3337128973929046, 'learning_rate': 0.0031097011782800954, 'batch_size': 16, 'epochs': 66}. Best is trial 12 with value: 8.509432236765758.\n"
     ]
    },
    {
     "name": "stdout",
     "output_type": "stream",
     "text": [
      "\u001b[1m9/9\u001b[0m \u001b[32m━━━━━━━━━━━━━━━━━━━━\u001b[0m\u001b[37m\u001b[0m \u001b[1m0s\u001b[0m 37ms/step\n"
     ]
    },
    {
     "name": "stderr",
     "output_type": "stream",
     "text": [
      "[I 2024-11-16 17:30:42,956] Trial 28 finished with value: 9.16871824579306 and parameters: {'lstm_units': 69, 'dropout_rate': 0.21712887105880796, 'learning_rate': 0.0014153484572644029, 'batch_size': 32, 'epochs': 93}. Best is trial 12 with value: 8.509432236765758.\n"
     ]
    },
    {
     "name": "stdout",
     "output_type": "stream",
     "text": [
      "\u001b[1m9/9\u001b[0m \u001b[32m━━━━━━━━━━━━━━━━━━━━\u001b[0m\u001b[37m\u001b[0m \u001b[1m0s\u001b[0m 24ms/step\n"
     ]
    },
    {
     "name": "stderr",
     "output_type": "stream",
     "text": [
      "[I 2024-11-16 17:31:14,093] Trial 29 finished with value: 17.916118944962836 and parameters: {'lstm_units': 44, 'dropout_rate': 0.37391906110623013, 'learning_rate': 0.00043185025708560303, 'batch_size': 64, 'epochs': 80}. Best is trial 12 with value: 8.509432236765758.\n"
     ]
    },
    {
     "name": "stdout",
     "output_type": "stream",
     "text": [
      "\u001b[1m9/9\u001b[0m \u001b[32m━━━━━━━━━━━━━━━━━━━━\u001b[0m\u001b[37m\u001b[0m \u001b[1m0s\u001b[0m 20ms/step\n"
     ]
    },
    {
     "name": "stderr",
     "output_type": "stream",
     "text": [
      "[I 2024-11-16 17:31:59,729] Trial 30 finished with value: 12.576346306805515 and parameters: {'lstm_units': 29, 'dropout_rate': 0.26832367655646555, 'learning_rate': 0.00596067824387722, 'batch_size': 32, 'epochs': 90}. Best is trial 12 with value: 8.509432236765758.\n"
     ]
    },
    {
     "name": "stdout",
     "output_type": "stream",
     "text": [
      "\u001b[1m9/9\u001b[0m \u001b[32m━━━━━━━━━━━━━━━━━━━━\u001b[0m\u001b[37m\u001b[0m \u001b[1m1s\u001b[0m 37ms/step\n"
     ]
    },
    {
     "name": "stderr",
     "output_type": "stream",
     "text": [
      "[I 2024-11-16 17:33:08,649] Trial 31 finished with value: 8.73751460621444 and parameters: {'lstm_units': 69, 'dropout_rate': 0.1955819022465219, 'learning_rate': 0.0012505093715403494, 'batch_size': 32, 'epochs': 96}. Best is trial 12 with value: 8.509432236765758.\n"
     ]
    },
    {
     "name": "stdout",
     "output_type": "stream",
     "text": [
      "\u001b[1m9/9\u001b[0m \u001b[32m━━━━━━━━━━━━━━━━━━━━\u001b[0m\u001b[37m\u001b[0m \u001b[1m0s\u001b[0m 30ms/step\n"
     ]
    },
    {
     "name": "stderr",
     "output_type": "stream",
     "text": [
      "[I 2024-11-16 17:34:10,352] Trial 32 finished with value: 10.114289480294946 and parameters: {'lstm_units': 50, 'dropout_rate': 0.15864104296798268, 'learning_rate': 0.001233478891687942, 'batch_size': 32, 'epochs': 100}. Best is trial 12 with value: 8.509432236765758.\n"
     ]
    },
    {
     "name": "stdout",
     "output_type": "stream",
     "text": [
      "\u001b[1m9/9\u001b[0m \u001b[32m━━━━━━━━━━━━━━━━━━━━\u001b[0m\u001b[37m\u001b[0m \u001b[1m0s\u001b[0m 29ms/step\n"
     ]
    },
    {
     "name": "stderr",
     "output_type": "stream",
     "text": [
      "[I 2024-11-16 17:35:18,356] Trial 33 finished with value: 9.337380426613715 and parameters: {'lstm_units': 71, 'dropout_rate': 0.1477073913372985, 'learning_rate': 0.0031147659620792204, 'batch_size': 32, 'epochs': 94}. Best is trial 12 with value: 8.509432236765758.\n"
     ]
    },
    {
     "name": "stdout",
     "output_type": "stream",
     "text": [
      "\u001b[1m9/9\u001b[0m \u001b[32m━━━━━━━━━━━━━━━━━━━━\u001b[0m\u001b[37m\u001b[0m \u001b[1m0s\u001b[0m 32ms/step\n"
     ]
    },
    {
     "name": "stderr",
     "output_type": "stream",
     "text": [
      "[I 2024-11-16 17:36:10,572] Trial 34 finished with value: 16.865764077776053 and parameters: {'lstm_units': 58, 'dropout_rate': 0.2473553535844019, 'learning_rate': 0.000533055419321231, 'batch_size': 32, 'epochs': 75}. Best is trial 12 with value: 8.509432236765758.\n"
     ]
    },
    {
     "name": "stdout",
     "output_type": "stream",
     "text": [
      "\u001b[1m9/9\u001b[0m \u001b[32m━━━━━━━━━━━━━━━━━━━━\u001b[0m\u001b[37m\u001b[0m \u001b[1m0s\u001b[0m 31ms/step\n"
     ]
    },
    {
     "name": "stderr",
     "output_type": "stream",
     "text": [
      "[I 2024-11-16 17:37:19,656] Trial 35 finished with value: 8.62938782345075 and parameters: {'lstm_units': 82, 'dropout_rate': 0.20737404243505114, 'learning_rate': 0.007524971012102844, 'batch_size': 32, 'epochs': 86}. Best is trial 12 with value: 8.509432236765758.\n"
     ]
    },
    {
     "name": "stdout",
     "output_type": "stream",
     "text": [
      "\u001b[1m9/9\u001b[0m \u001b[32m━━━━━━━━━━━━━━━━━━━━\u001b[0m\u001b[37m\u001b[0m \u001b[1m1s\u001b[0m 37ms/step\n"
     ]
    },
    {
     "name": "stderr",
     "output_type": "stream",
     "text": [
      "[I 2024-11-16 17:38:28,290] Trial 36 finished with value: 10.864256027053612 and parameters: {'lstm_units': 82, 'dropout_rate': 0.19985852108953603, 'learning_rate': 0.007280859692265175, 'batch_size': 32, 'epochs': 86}. Best is trial 12 with value: 8.509432236765758.\n"
     ]
    },
    {
     "name": "stdout",
     "output_type": "stream",
     "text": [
      "\u001b[1m9/9\u001b[0m \u001b[32m━━━━━━━━━━━━━━━━━━━━\u001b[0m\u001b[37m\u001b[0m \u001b[1m1s\u001b[0m 37ms/step\n"
     ]
    },
    {
     "name": "stderr",
     "output_type": "stream",
     "text": [
      "[I 2024-11-16 17:39:11,189] Trial 37 finished with value: 10.020540586944753 and parameters: {'lstm_units': 82, 'dropout_rate': 0.13842325346518355, 'learning_rate': 0.0010563953484934443, 'batch_size': 32, 'epochs': 51}. Best is trial 12 with value: 8.509432236765758.\n"
     ]
    },
    {
     "name": "stdout",
     "output_type": "stream",
     "text": [
      "\u001b[1m9/9\u001b[0m \u001b[32m━━━━━━━━━━━━━━━━━━━━\u001b[0m\u001b[37m\u001b[0m \u001b[1m0s\u001b[0m 34ms/step\n"
     ]
    },
    {
     "name": "stderr",
     "output_type": "stream",
     "text": [
      "[I 2024-11-16 17:40:03,912] Trial 38 finished with value: 23.07612238788774 and parameters: {'lstm_units': 59, 'dropout_rate': 0.23050764668885282, 'learning_rate': 2.855664722258339e-05, 'batch_size': 32, 'epochs': 77}. Best is trial 12 with value: 8.509432236765758.\n"
     ]
    },
    {
     "name": "stdout",
     "output_type": "stream",
     "text": [
      "\u001b[1m9/9\u001b[0m \u001b[32m━━━━━━━━━━━━━━━━━━━━\u001b[0m\u001b[37m\u001b[0m \u001b[1m0s\u001b[0m 25ms/step\n"
     ]
    },
    {
     "name": "stderr",
     "output_type": "stream",
     "text": [
      "[I 2024-11-16 17:40:50,558] Trial 39 finished with value: 12.918074295110339 and parameters: {'lstm_units': 37, 'dropout_rate': 0.1887162736578928, 'learning_rate': 0.0025459530016913715, 'batch_size': 32, 'epochs': 86}. Best is trial 12 with value: 8.509432236765758.\n"
     ]
    },
    {
     "name": "stdout",
     "output_type": "stream",
     "text": [
      "\u001b[1m9/9\u001b[0m \u001b[32m━━━━━━━━━━━━━━━━━━━━\u001b[0m\u001b[37m\u001b[0m \u001b[1m1s\u001b[0m 37ms/step\n"
     ]
    },
    {
     "name": "stderr",
     "output_type": "stream",
     "text": [
      "[I 2024-11-16 17:41:45,107] Trial 40 finished with value: 15.166534952062243 and parameters: {'lstm_units': 90, 'dropout_rate': 0.39779403160748644, 'learning_rate': 0.00015463676893314683, 'batch_size': 32, 'epochs': 64}. Best is trial 12 with value: 8.509432236765758.\n"
     ]
    },
    {
     "name": "stdout",
     "output_type": "stream",
     "text": [
      "\u001b[1m9/9\u001b[0m \u001b[32m━━━━━━━━━━━━━━━━━━━━\u001b[0m\u001b[37m\u001b[0m \u001b[1m0s\u001b[0m 28ms/step\n"
     ]
    },
    {
     "name": "stderr",
     "output_type": "stream",
     "text": [
      "[I 2024-11-16 17:43:25,198] Trial 41 finished with value: 14.540841795688573 and parameters: {'lstm_units': 71, 'dropout_rate': 0.2901499677098845, 'learning_rate': 0.004385182796145917, 'batch_size': 16, 'epochs': 94}. Best is trial 12 with value: 8.509432236765758.\n"
     ]
    },
    {
     "name": "stdout",
     "output_type": "stream",
     "text": [
      "\u001b[1m9/9\u001b[0m \u001b[32m━━━━━━━━━━━━━━━━━━━━\u001b[0m\u001b[37m\u001b[0m \u001b[1m0s\u001b[0m 32ms/step\n"
     ]
    },
    {
     "name": "stderr",
     "output_type": "stream",
     "text": [
      "[I 2024-11-16 17:45:05,902] Trial 42 finished with value: 13.151304485621372 and parameters: {'lstm_units': 66, 'dropout_rate': 0.3142977493609535, 'learning_rate': 0.00944241592767051, 'batch_size': 16, 'epochs': 96}. Best is trial 12 with value: 8.509432236765758.\n"
     ]
    },
    {
     "name": "stdout",
     "output_type": "stream",
     "text": [
      "\u001b[1m9/9\u001b[0m \u001b[32m━━━━━━━━━━━━━━━━━━━━\u001b[0m\u001b[37m\u001b[0m \u001b[1m1s\u001b[0m 34ms/step\n"
     ]
    },
    {
     "name": "stderr",
     "output_type": "stream",
     "text": [
      "[I 2024-11-16 17:45:54,103] Trial 43 finished with value: 11.412455851206795 and parameters: {'lstm_units': 62, 'dropout_rate': 0.2707348658205723, 'learning_rate': 0.002085851466162026, 'batch_size': 64, 'epochs': 89}. Best is trial 12 with value: 8.509432236765758.\n"
     ]
    },
    {
     "name": "stdout",
     "output_type": "stream",
     "text": [
      "\u001b[1m9/9\u001b[0m \u001b[32m━━━━━━━━━━━━━━━━━━━━\u001b[0m\u001b[37m\u001b[0m \u001b[1m0s\u001b[0m 29ms/step\n"
     ]
    },
    {
     "name": "stderr",
     "output_type": "stream",
     "text": [
      "[I 2024-11-16 17:46:35,028] Trial 44 finished with value: 8.975882070773995 and parameters: {'lstm_units': 55, 'dropout_rate': 0.16481298220995685, 'learning_rate': 0.0045985870027538496, 'batch_size': 32, 'epochs': 58}. Best is trial 12 with value: 8.509432236765758.\n"
     ]
    },
    {
     "name": "stdout",
     "output_type": "stream",
     "text": [
      "\u001b[1m9/9\u001b[0m \u001b[32m━━━━━━━━━━━━━━━━━━━━\u001b[0m\u001b[37m\u001b[0m \u001b[1m0s\u001b[0m 28ms/step\n"
     ]
    },
    {
     "name": "stderr",
     "output_type": "stream",
     "text": [
      "[I 2024-11-16 17:47:13,527] Trial 45 finished with value: 15.674020904530593 and parameters: {'lstm_units': 53, 'dropout_rate': 0.1692106157890708, 'learning_rate': 0.0069637256849175025, 'batch_size': 32, 'epochs': 58}. Best is trial 12 with value: 8.509432236765758.\n"
     ]
    },
    {
     "name": "stdout",
     "output_type": "stream",
     "text": [
      "\u001b[1m9/9\u001b[0m \u001b[32m━━━━━━━━━━━━━━━━━━━━\u001b[0m\u001b[37m\u001b[0m \u001b[1m0s\u001b[0m 34ms/step\n"
     ]
    },
    {
     "name": "stderr",
     "output_type": "stream",
     "text": [
      "[I 2024-11-16 17:47:34,266] Trial 46 finished with value: 20.03626296104406 and parameters: {'lstm_units': 44, 'dropout_rate': 0.12576701012300312, 'learning_rate': 0.00037376538288912814, 'batch_size': 32, 'epochs': 33}. Best is trial 12 with value: 8.509432236765758.\n"
     ]
    },
    {
     "name": "stdout",
     "output_type": "stream",
     "text": [
      "\u001b[1m9/9\u001b[0m \u001b[32m━━━━━━━━━━━━━━━━━━━━\u001b[0m\u001b[37m\u001b[0m \u001b[1m0s\u001b[0m 33ms/step\n"
     ]
    },
    {
     "name": "stderr",
     "output_type": "stream",
     "text": [
      "[I 2024-11-16 17:48:00,598] Trial 47 finished with value: 16.53430322174684 and parameters: {'lstm_units': 50, 'dropout_rate': 0.2198432609513326, 'learning_rate': 0.0006700906712403157, 'batch_size': 32, 'epochs': 41}. Best is trial 12 with value: 8.509432236765758.\n"
     ]
    },
    {
     "name": "stdout",
     "output_type": "stream",
     "text": [
      "\u001b[1m9/9\u001b[0m \u001b[32m━━━━━━━━━━━━━━━━━━━━\u001b[0m\u001b[37m\u001b[0m \u001b[1m0s\u001b[0m 26ms/step\n"
     ]
    },
    {
     "name": "stderr",
     "output_type": "stream",
     "text": [
      "[I 2024-11-16 17:48:56,432] Trial 48 finished with value: 9.092727075753626 and parameters: {'lstm_units': 74, 'dropout_rate': 0.2031218442375483, 'learning_rate': 0.002358195463295874, 'batch_size': 32, 'epochs': 74}. Best is trial 12 with value: 8.509432236765758.\n"
     ]
    },
    {
     "name": "stdout",
     "output_type": "stream",
     "text": [
      "\u001b[1m9/9\u001b[0m \u001b[32m━━━━━━━━━━━━━━━━━━━━\u001b[0m\u001b[37m\u001b[0m \u001b[1m0s\u001b[0m 29ms/step\n"
     ]
    },
    {
     "name": "stderr",
     "output_type": "stream",
     "text": [
      "[I 2024-11-16 17:49:18,828] Trial 49 finished with value: 13.878202394047674 and parameters: {'lstm_units': 10, 'dropout_rate': 0.24420458011118884, 'learning_rate': 0.0017260536037147054, 'batch_size': 32, 'epochs': 47}. Best is trial 12 with value: 8.509432236765758.\n"
     ]
    },
    {
     "name": "stdout",
     "output_type": "stream",
     "text": [
      "Best trial:\n",
      "  Value (RMSE): 8.509432236765758\n",
      "  Params:\n",
      "    lstm_units: 53\n",
      "    dropout_rate: 0.2692443564327529\n",
      "    learning_rate: 0.001099003730699956\n",
      "    batch_size: 16\n",
      "    epochs: 99\n"
     ]
    }
   ],
   "source": [
    "import numpy as np\n",
    "import pandas as pd\n",
    "import optuna\n",
    "from sklearn.preprocessing import MinMaxScaler\n",
    "from tensorflow.keras.models import Sequential\n",
    "from tensorflow.keras.layers import LSTM, Dense, Dropout, Input\n",
    "from tensorflow.keras.optimizers import Adam\n",
    "from sklearn.metrics import mean_squared_error\n",
    "import matplotlib.pyplot as plt\n",
    "\n",
    "# Step 1: Load the data\n",
    "tesla_data = pd.read_csv('Get_data/Tesla_Close_2019_2024.csv', parse_dates=['Date'], index_col='Date')\n",
    "sp500_data = pd.read_csv('Get_data/S&P500_Close_2019_2024.csv', parse_dates=['Date'], index_col='Date')\n",
    "ixic_data = pd.read_csv('Get_data/IXIC_Close_2019_2024.csv', parse_dates=['Date'], index_col='Date')\n",
    "\n",
    "# Merge datasets on 'Date'\n",
    "merged_data = tesla_data.merge(sp500_data, left_index=True, right_index=True, suffixes=('', '_sp500'))\n",
    "merged_data = merged_data.merge(ixic_data, left_index=True, right_index=True, suffixes=('', '_ixic'))\n",
    "\n",
    "# Step 2: Preprocess the data\n",
    "data = merged_data[['Close', 'Close_sp500', 'Close_ixic']]\n",
    "scaler = MinMaxScaler()\n",
    "scaled_data = scaler.fit_transform(data)\n",
    "\n",
    "# Prepare the dataset for LSTM\n",
    "def create_dataset(dataset, time_step=60):\n",
    "    X, y = [], []\n",
    "    for i in range(time_step, len(dataset)):\n",
    "        X.append(dataset[i - time_step:i])\n",
    "        y.append(dataset[i, 0])  # Predict the 'Close' price of Tesla\n",
    "    return np.array(X), np.array(y)\n",
    "\n",
    "time_step = 60\n",
    "X, y = create_dataset(scaled_data, time_step)\n",
    "\n",
    "# Split data into training and test sets\n",
    "train_size = int(len(X) * 0.8)\n",
    "X_train, X_test = X[:train_size], X[train_size:]\n",
    "y_train, y_test = y[:train_size], y[train_size:]\n",
    "\n",
    "# Function to create and train the LSTM model with Optuna\n",
    "def objective(trial):\n",
    "    # Hyperparameters to optimize\n",
    "    lstm_units = trial.suggest_int('lstm_units', 10, 100)\n",
    "    dropout_rate = trial.suggest_float('dropout_rate', 0.1, 0.5)\n",
    "    learning_rate = trial.suggest_float('learning_rate', 1e-5, 1e-2, log=True)\n",
    "    batch_size = trial.suggest_categorical('batch_size', [16, 32, 64])\n",
    "    epochs = trial.suggest_int('epochs', 10, 100)\n",
    "\n",
    "    # Build the LSTM model\n",
    "    model = Sequential([\n",
    "        Input(shape=(time_step, X_train.shape[2])),\n",
    "        LSTM(lstm_units, return_sequences=True),\n",
    "        Dropout(dropout_rate),\n",
    "        LSTM(lstm_units),\n",
    "        Dropout(dropout_rate),\n",
    "        Dense(1)\n",
    "    ])\n",
    "    model.compile(optimizer=Adam(learning_rate=learning_rate), loss='mean_squared_error')\n",
    "\n",
    "    # Train the model\n",
    "    model.fit(X_train, y_train, epochs=epochs, batch_size=batch_size, verbose=0)\n",
    "\n",
    "    # Evaluate the model\n",
    "    test_predictions = model.predict(X_test)\n",
    "    test_predictions_rescaled = scaler.inverse_transform(\n",
    "        np.hstack([test_predictions, X_test[:, -1, 1:]])\n",
    "    )[:, 0]\n",
    "    y_test_rescaled = scaler.inverse_transform(\n",
    "        np.hstack([y_test.reshape(-1, 1), X_test[:, -1, 1:]])\n",
    "    )[:, 0]\n",
    "\n",
    "    rmse = np.sqrt(mean_squared_error(y_test_rescaled, test_predictions_rescaled))\n",
    "    return rmse\n",
    "\n",
    "# Run the optimization\n",
    "study = optuna.create_study(direction='minimize')\n",
    "study.optimize(objective, n_trials=50)\n",
    "\n",
    "# Print the best hyperparameters\n",
    "print('Best trial:')\n",
    "trial = study.best_trial\n",
    "print(f'  Value (RMSE): {trial.value}')\n",
    "print('  Params:')\n",
    "for key, value in trial.params.items():\n",
    "    print(f'    {key}: {value}')\n"
   ]
  },
  {
   "cell_type": "code",
   "execution_count": 6,
   "id": "c5ac9007-50b1-42da-855f-70e4b8cf814b",
   "metadata": {},
   "outputs": [
    {
     "name": "stderr",
     "output_type": "stream",
     "text": [
      "[I 2024-11-16 18:32:36,499] A new study created in memory with name: no-name-f93d06e9-52b2-4158-a83c-ff44a9833529\n"
     ]
    },
    {
     "name": "stdout",
     "output_type": "stream",
     "text": [
      "\u001b[1m9/9\u001b[0m \u001b[32m━━━━━━━━━━━━━━━━━━━━\u001b[0m\u001b[37m\u001b[0m \u001b[1m1s\u001b[0m 38ms/step\n"
     ]
    },
    {
     "name": "stderr",
     "output_type": "stream",
     "text": [
      "[I 2024-11-16 18:34:22,601] Trial 0 finished with value: 16.716076220282748 and parameters: {'lstm_units': 55, 'dropout_rate': 0.27186907741824035, 'learning_rate': 0.0010704914582791985, 'batch_size': 16, 'epochs': 100}. Best is trial 0 with value: 16.716076220282748.\n"
     ]
    },
    {
     "name": "stdout",
     "output_type": "stream",
     "text": [
      "\u001b[1m9/9\u001b[0m \u001b[32m━━━━━━━━━━━━━━━━━━━━\u001b[0m\u001b[37m\u001b[0m \u001b[1m0s\u001b[0m 28ms/step\n"
     ]
    },
    {
     "name": "stderr",
     "output_type": "stream",
     "text": [
      "[I 2024-11-16 18:37:46,260] Trial 1 finished with value: 9.224599301221293 and parameters: {'lstm_units': 60, 'dropout_rate': 0.26640706444585577, 'learning_rate': 0.0010772910183478501, 'batch_size': 16, 'epochs': 191}. Best is trial 1 with value: 9.224599301221293.\n"
     ]
    },
    {
     "name": "stdout",
     "output_type": "stream",
     "text": [
      "\u001b[1m9/9\u001b[0m \u001b[32m━━━━━━━━━━━━━━━━━━━━\u001b[0m\u001b[37m\u001b[0m \u001b[1m0s\u001b[0m 33ms/step\n"
     ]
    },
    {
     "name": "stderr",
     "output_type": "stream",
     "text": [
      "[I 2024-11-16 18:40:05,398] Trial 2 finished with value: 8.02193333478337 and parameters: {'lstm_units': 57, 'dropout_rate': 0.2714727016483041, 'learning_rate': 0.0010820784404161896, 'batch_size': 16, 'epochs': 128}. Best is trial 2 with value: 8.02193333478337.\n"
     ]
    },
    {
     "name": "stdout",
     "output_type": "stream",
     "text": [
      "\u001b[1m9/9\u001b[0m \u001b[32m━━━━━━━━━━━━━━━━━━━━\u001b[0m\u001b[37m\u001b[0m \u001b[1m1s\u001b[0m 40ms/step\n"
     ]
    },
    {
     "name": "stderr",
     "output_type": "stream",
     "text": [
      "[I 2024-11-16 18:43:38,594] Trial 3 finished with value: 10.782801561612859 and parameters: {'lstm_units': 60, 'dropout_rate': 0.27421600880196767, 'learning_rate': 0.0010730790199584412, 'batch_size': 16, 'epochs': 177}. Best is trial 2 with value: 8.02193333478337.\n"
     ]
    },
    {
     "name": "stdout",
     "output_type": "stream",
     "text": [
      "\u001b[1m9/9\u001b[0m \u001b[32m━━━━━━━━━━━━━━━━━━━━\u001b[0m\u001b[37m\u001b[0m \u001b[1m1s\u001b[0m 37ms/step\n"
     ]
    },
    {
     "name": "stderr",
     "output_type": "stream",
     "text": [
      "[I 2024-11-16 18:47:26,462] Trial 4 finished with value: 8.320610190790893 and parameters: {'lstm_units': 56, 'dropout_rate': 0.27416212672412454, 'learning_rate': 0.001081037117779012, 'batch_size': 16, 'epochs': 184}. Best is trial 2 with value: 8.02193333478337.\n"
     ]
    },
    {
     "name": "stdout",
     "output_type": "stream",
     "text": [
      "\u001b[1m9/9\u001b[0m \u001b[32m━━━━━━━━━━━━━━━━━━━━\u001b[0m\u001b[37m\u001b[0m \u001b[1m0s\u001b[0m 30ms/step\n"
     ]
    },
    {
     "name": "stderr",
     "output_type": "stream",
     "text": [
      "[I 2024-11-16 18:50:41,180] Trial 5 finished with value: 13.928002772790354 and parameters: {'lstm_units': 56, 'dropout_rate': 0.2698854927526324, 'learning_rate': 0.0010540288551639109, 'batch_size': 16, 'epochs': 186}. Best is trial 2 with value: 8.02193333478337.\n"
     ]
    },
    {
     "name": "stdout",
     "output_type": "stream",
     "text": [
      "\u001b[1m9/9\u001b[0m \u001b[32m━━━━━━━━━━━━━━━━━━━━\u001b[0m\u001b[37m\u001b[0m \u001b[1m0s\u001b[0m 33ms/step\n"
     ]
    },
    {
     "name": "stderr",
     "output_type": "stream",
     "text": [
      "[I 2024-11-16 18:53:40,573] Trial 6 finished with value: 14.114826154237821 and parameters: {'lstm_units': 58, 'dropout_rate': 0.27493435640267366, 'learning_rate': 0.0010506098005655512, 'batch_size': 16, 'epochs': 150}. Best is trial 2 with value: 8.02193333478337.\n"
     ]
    },
    {
     "name": "stdout",
     "output_type": "stream",
     "text": [
      "\u001b[1m9/9\u001b[0m \u001b[32m━━━━━━━━━━━━━━━━━━━━\u001b[0m\u001b[37m\u001b[0m \u001b[1m0s\u001b[0m 31ms/step\n"
     ]
    },
    {
     "name": "stderr",
     "output_type": "stream",
     "text": [
      "[I 2024-11-16 18:56:09,695] Trial 7 finished with value: 9.132547546655807 and parameters: {'lstm_units': 57, 'dropout_rate': 0.26675107202291365, 'learning_rate': 0.0010031318056488154, 'batch_size': 16, 'epochs': 136}. Best is trial 2 with value: 8.02193333478337.\n"
     ]
    },
    {
     "name": "stdout",
     "output_type": "stream",
     "text": [
      "\u001b[1m9/9\u001b[0m \u001b[32m━━━━━━━━━━━━━━━━━━━━\u001b[0m\u001b[37m\u001b[0m \u001b[1m1s\u001b[0m 34ms/step\n"
     ]
    },
    {
     "name": "stderr",
     "output_type": "stream",
     "text": [
      "[I 2024-11-16 18:58:55,508] Trial 8 finished with value: 11.239318889479655 and parameters: {'lstm_units': 56, 'dropout_rate': 0.2719894914803458, 'learning_rate': 0.0010327075293807089, 'batch_size': 16, 'epochs': 157}. Best is trial 2 with value: 8.02193333478337.\n"
     ]
    },
    {
     "name": "stdout",
     "output_type": "stream",
     "text": [
      "\u001b[1m9/9\u001b[0m \u001b[32m━━━━━━━━━━━━━━━━━━━━\u001b[0m\u001b[37m\u001b[0m \u001b[1m1s\u001b[0m 37ms/step\n"
     ]
    },
    {
     "name": "stderr",
     "output_type": "stream",
     "text": [
      "[I 2024-11-16 19:01:39,861] Trial 9 finished with value: 11.089835807708328 and parameters: {'lstm_units': 55, 'dropout_rate': 0.2725608737666196, 'learning_rate': 0.0010079857364463669, 'batch_size': 16, 'epochs': 152}. Best is trial 2 with value: 8.02193333478337.\n"
     ]
    },
    {
     "name": "stdout",
     "output_type": "stream",
     "text": [
      "Best trial:\n",
      "  Value (RMSE): 8.02193333478337\n",
      "  Params:\n",
      "    lstm_units: 57\n",
      "    dropout_rate: 0.2714727016483041\n",
      "    learning_rate: 0.0010820784404161896\n",
      "    batch_size: 16\n",
      "    epochs: 128\n"
     ]
    }
   ],
   "source": [
    "import numpy as np\n",
    "import pandas as pd\n",
    "import optuna\n",
    "from sklearn.preprocessing import MinMaxScaler\n",
    "from tensorflow.keras.models import Sequential\n",
    "from tensorflow.keras.layers import LSTM, Dense, Dropout, Input\n",
    "from tensorflow.keras.optimizers import Adam\n",
    "from sklearn.metrics import mean_squared_error\n",
    "import matplotlib.pyplot as plt\n",
    "\n",
    "# Step 1: Load the data\n",
    "tesla_data = pd.read_csv('Get_data/Tesla_Close_2019_2024.csv', parse_dates=['Date'], index_col='Date')\n",
    "sp500_data = pd.read_csv('Get_data/S&P500_Close_2019_2024.csv', parse_dates=['Date'], index_col='Date')\n",
    "ixic_data = pd.read_csv('Get_data/IXIC_Close_2019_2024.csv', parse_dates=['Date'], index_col='Date')\n",
    "\n",
    "# Merge datasets on 'Date'\n",
    "merged_data = tesla_data.merge(sp500_data, left_index=True, right_index=True, suffixes=('', '_sp500'))\n",
    "merged_data = merged_data.merge(ixic_data, left_index=True, right_index=True, suffixes=('', '_ixic'))\n",
    "\n",
    "# Step 2: Preprocess the data\n",
    "data = merged_data[['Close', 'Close_sp500', 'Close_ixic']]\n",
    "scaler = MinMaxScaler()\n",
    "scaled_data = scaler.fit_transform(data)\n",
    "\n",
    "# Prepare the dataset for LSTM\n",
    "def create_dataset(dataset, time_step=60):\n",
    "    X, y = [], []\n",
    "    for i in range(time_step, len(dataset)):\n",
    "        X.append(dataset[i - time_step:i])\n",
    "        y.append(dataset[i, 0])  # Predict the 'Close' price of Tesla\n",
    "    return np.array(X), np.array(y)\n",
    "\n",
    "time_step = 60\n",
    "X, y = create_dataset(scaled_data, time_step)\n",
    "\n",
    "# Split data into training and test sets\n",
    "train_size = int(len(X) * 0.8)\n",
    "X_train, X_test = X[:train_size], X[train_size:]\n",
    "y_train, y_test = y[:train_size], y[train_size:]\n",
    "\n",
    "# Function to create and train the LSTM model with Optuna\n",
    "def objective(trial):\n",
    "    # Hyperparameters to optimize\n",
    "    lstm_units = trial.suggest_int('lstm_units', 55, 60)\n",
    "    dropout_rate = trial.suggest_float('dropout_rate', 0.265, 0.275)\n",
    "    learning_rate = trial.suggest_float('learning_rate', 0.00095, 0.0011, log=True)\n",
    "    batch_size = trial.suggest_categorical('batch_size', [16])\n",
    "    epochs = trial.suggest_int('epochs', 100, 200)\n",
    "\n",
    "    # Build the LSTM model\n",
    "    model = Sequential([\n",
    "        Input(shape=(time_step, X_train.shape[2])),\n",
    "        LSTM(lstm_units, return_sequences=True),\n",
    "        Dropout(dropout_rate),\n",
    "        LSTM(lstm_units),\n",
    "        Dropout(dropout_rate),\n",
    "        Dense(1)\n",
    "    ])\n",
    "    model.compile(optimizer=Adam(learning_rate=learning_rate), loss='mean_squared_error')\n",
    "\n",
    "    # Train the model\n",
    "    model.fit(X_train, y_train, epochs=epochs, batch_size=batch_size, verbose=0)\n",
    "\n",
    "    # Evaluate the model\n",
    "    test_predictions = model.predict(X_test)\n",
    "    test_predictions_rescaled = scaler.inverse_transform(\n",
    "        np.hstack([test_predictions, X_test[:, -1, 1:]])\n",
    "    )[:, 0]\n",
    "    y_test_rescaled = scaler.inverse_transform(\n",
    "        np.hstack([y_test.reshape(-1, 1), X_test[:, -1, 1:]])\n",
    "    )[:, 0]\n",
    "\n",
    "    rmse = np.sqrt(mean_squared_error(y_test_rescaled, test_predictions_rescaled))\n",
    "    return rmse\n",
    "\n",
    "# Run the optimization\n",
    "study = optuna.create_study(direction='minimize')\n",
    "study.optimize(objective, n_trials=10)\n",
    "\n",
    "# Print the best hyperparameters\n",
    "print('Best trial:')\n",
    "trial = study.best_trial\n",
    "print(f'  Value (RMSE): {trial.value}')\n",
    "print('  Params:')\n",
    "for key, value in trial.params.items():\n",
    "    print(f'    {key}: {value}')\n"
   ]
  },
  {
   "cell_type": "code",
   "execution_count": null,
   "id": "54afbaec-fd6f-4bcb-9435-0254c15fdd65",
   "metadata": {},
   "outputs": [],
   "source": []
  }
 ],
 "metadata": {
  "kernelspec": {
   "display_name": "Python 3 (ipykernel)",
   "language": "python",
   "name": "python3"
  },
  "language_info": {
   "codemirror_mode": {
    "name": "ipython",
    "version": 3
   },
   "file_extension": ".py",
   "mimetype": "text/x-python",
   "name": "python",
   "nbconvert_exporter": "python",
   "pygments_lexer": "ipython3",
   "version": "3.12.6"
  }
 },
 "nbformat": 4,
 "nbformat_minor": 5
}
