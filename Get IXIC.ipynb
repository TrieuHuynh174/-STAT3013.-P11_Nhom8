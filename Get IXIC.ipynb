{
 "cells": [
  {
   "cell_type": "code",
   "execution_count": 1,
   "id": "a9f07fbd-baf5-48ef-af8d-7380dfe19588",
   "metadata": {},
   "outputs": [
    {
     "name": "stderr",
     "output_type": "stream",
     "text": [
      "[*********************100%***********************]  1 of 1 completed"
     ]
    },
    {
     "name": "stdout",
     "output_type": "stream",
     "text": [
      "\n",
      "Selected 'Close' column data:\n",
      " Date\n",
      "2019-01-02     6665.939941\n",
      "2019-01-03     6463.500000\n",
      "2019-01-04     6738.859863\n",
      "2019-01-07     6823.470215\n",
      "2019-01-08     6897.000000\n",
      "                  ...     \n",
      "2024-10-25    18518.609375\n",
      "2024-10-28    18567.189453\n",
      "2024-10-29    18712.750000\n",
      "2024-10-30    18607.929688\n",
      "2024-10-31    18095.150391\n",
      "Name: Close, Length: 1469, dtype: float64\n",
      "\n",
      "Data has been saved to 'IXIC_Close_2019_2024.csv'\n"
     ]
    },
    {
     "name": "stderr",
     "output_type": "stream",
     "text": [
      "\n"
     ]
    }
   ],
   "source": [
    "import yfinance as yf\n",
    "import pandas as pd\n",
    "import numpy as np\n",
    "import matplotlib.pyplot as plt\n",
    "from collections import Counter\n",
    "\n",
    "# Step 1: Download data for the past 5 years up to November 1, 2024\n",
    "data = yf.download(\"^IXIC\", start=\"2019-01-01\", end=\"2024-11-01\", interval=\"1d\")\n",
    "\n",
    "# Step 2: Select the 'Close' columns\n",
    "selected_columns = data['Close']\n",
    "print(\"\\nSelected 'Close' column data:\\n\", selected_columns)\n",
    "\n",
    "# Step 3: Export 'Close' column data to CSV\n",
    "selected_columns.to_csv(\"IXIC_Close_2019_2024.csv\", index=True)\n",
    "print(\"\\nData has been saved to 'IXIC_Close_2019_2024.csv'\")"
   ]
  },
  {
   "cell_type": "code",
   "execution_count": null,
   "id": "621daed2-2a8b-4b1e-b19f-43217c341218",
   "metadata": {},
   "outputs": [],
   "source": []
  }
 ],
 "metadata": {
  "kernelspec": {
   "display_name": "Python 3 (ipykernel)",
   "language": "python",
   "name": "python3"
  },
  "language_info": {
   "codemirror_mode": {
    "name": "ipython",
    "version": 3
   },
   "file_extension": ".py",
   "mimetype": "text/x-python",
   "name": "python",
   "nbconvert_exporter": "python",
   "pygments_lexer": "ipython3",
   "version": "3.12.6"
  }
 },
 "nbformat": 4,
 "nbformat_minor": 5
}
