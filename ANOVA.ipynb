{
 "cells": [
  {
   "cell_type": "code",
   "execution_count": 1,
   "id": "3bba5822-c95c-4bca-ba8c-f6d5dcc05665",
   "metadata": {},
   "outputs": [
    {
     "name": "stdout",
     "output_type": "stream",
     "text": [
      "\n",
      "--- ANOVA Results ---\n",
      "                sum_sq      df           F        PR(>F)\n",
      "Close_sp500   0.576258     1.0   22.921611  1.858033e-06\n",
      "Close_ixic    6.543858     1.0  260.292599  5.003956e-54\n",
      "Residual     36.855812  1466.0         NaN           NaN\n",
      "\n",
      "--- Interpretation ---\n",
      "S&P 500 has a statistically significant impact on Tesla stock prices (p-value = 0.0000).\n",
      "NASDAQ has a statistically significant impact on Tesla stock prices (p-value = 0.0000).\n"
     ]
    }
   ],
   "source": [
    "import pandas as pd\n",
    "import statsmodels.api as sm\n",
    "from statsmodels.formula.api import ols\n",
    "from sklearn.preprocessing import MinMaxScaler\n",
    "\n",
    "# Step 1: Load and merge datasets\n",
    "tesla_data = pd.read_csv('Clean_data/Cleaned_Tesla_Close.csv', parse_dates=['Date'], index_col='Date')\n",
    "sp500_data = pd.read_csv('Clean_data/Cleaned_SP500_Close.csv', parse_dates=['Date'], index_col='Date')\n",
    "ixic_data = pd.read_csv('Clean_data/Cleaned_IXIC_Close.csv', parse_dates=['Date'], index_col='Date')\n",
    "\n",
    "# Merge datasets on the Date index\n",
    "merged_data = tesla_data.merge(sp500_data, left_index=True, right_index=True, suffixes=('', '_sp500'))\n",
    "merged_data = merged_data.merge(ixic_data, left_index=True, right_index=True, suffixes=('', '_ixic'))\n",
    "\n",
    "# Step 2: Preprocess data\n",
    "# Select relevant columns\n",
    "data = merged_data[['Close', 'Close_sp500', 'Close_ixic']]\n",
    "\n",
    "# Normalize the data using MinMaxScaler\n",
    "scaler = MinMaxScaler()\n",
    "normalized_data = pd.DataFrame(scaler.fit_transform(data), columns=data.columns, index=data.index)\n",
    "\n",
    "# Step 3: Define the ANOVA model\n",
    "# Formula: 'Tesla stock price ~ S&P 500 + NASDAQ'\n",
    "model = ols('Close ~ Close_sp500 + Close_ixic', data=normalized_data).fit()\n",
    "\n",
    "# Step 4: Perform ANOVA\n",
    "anova_table = sm.stats.anova_lm(model, typ=2)  # Type II ANOVA\n",
    "print(\"\\n--- ANOVA Results ---\")\n",
    "print(anova_table)\n",
    "\n",
    "# Step 5: Interpretation\n",
    "print(\"\\n--- Interpretation ---\")\n",
    "if anova_table['PR(>F)']['Close_sp500'] < 0.05:\n",
    "    print(\"S&P 500 has a statistically significant impact on Tesla stock prices (p-value = {:.4f}).\".format(anova_table['PR(>F)']['Close_sp500']))\n",
    "else:\n",
    "    print(\"S&P 500 does not have a statistically significant impact on Tesla stock prices (p-value = {:.4f}).\".format(anova_table['PR(>F)']['Close_sp500']))\n",
    "\n",
    "if anova_table['PR(>F)']['Close_ixic'] < 0.05:\n",
    "    print(\"NASDAQ has a statistically significant impact on Tesla stock prices (p-value = {:.4f}).\".format(anova_table['PR(>F)']['Close_ixic']))\n",
    "else:\n",
    "    print(\"NASDAQ does not have a statistically significant impact on Tesla stock prices (p-value = {:.4f}).\".format(anova_table['PR(>F)']['Close_ixic']))\n"
   ]
  },
  {
   "cell_type": "code",
   "execution_count": null,
   "id": "8c5560a4-d8c2-4fcb-ad98-19b193ff36b8",
   "metadata": {},
   "outputs": [],
   "source": []
  }
 ],
 "metadata": {
  "kernelspec": {
   "display_name": "Python 3 (ipykernel)",
   "language": "python",
   "name": "python3"
  },
  "language_info": {
   "codemirror_mode": {
    "name": "ipython",
    "version": 3
   },
   "file_extension": ".py",
   "mimetype": "text/x-python",
   "name": "python",
   "nbconvert_exporter": "python",
   "pygments_lexer": "ipython3",
   "version": "3.12.6"
  }
 },
 "nbformat": 4,
 "nbformat_minor": 5
}
