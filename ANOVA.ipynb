{
 "cells": [
  {
   "cell_type": "code",
   "execution_count": 4,
   "id": "3bba5822-c95c-4bca-ba8c-f6d5dcc05665",
   "metadata": {},
   "outputs": [
    {
     "name": "stdout",
     "output_type": "stream",
     "text": [
      "                            OLS Regression Results                            \n",
      "==============================================================================\n",
      "Dep. Variable:                  Close   R-squared:                       0.614\n",
      "Model:                            OLS   Adj. R-squared:                  0.614\n",
      "Method:                 Least Squares   F-statistic:                     1166.\n",
      "Date:                Sun, 17 Nov 2024   Prob (F-statistic):          8.10e-304\n",
      "Time:                        16:42:21   Log-Likelihood:                 622.45\n",
      "No. Observations:                1469   AIC:                            -1239.\n",
      "Df Residuals:                    1466   BIC:                            -1223.\n",
      "Df Model:                           2                                         \n",
      "Covariance Type:            nonrobust                                         \n",
      "===============================================================================\n",
      "                  coef    std err          t      P>|t|      [0.025      0.975]\n",
      "-------------------------------------------------------------------------------\n",
      "const           0.0462      0.010      4.575      0.000       0.026       0.066\n",
      "Close_sp500    -0.3703      0.077     -4.788      0.000      -0.522      -0.219\n",
      "Close_ixic      1.1397      0.071     16.134      0.000       1.001       1.278\n",
      "==============================================================================\n",
      "Omnibus:                       66.808   Durbin-Watson:                   0.009\n",
      "Prob(Omnibus):                  0.000   Jarque-Bera (JB):               51.412\n",
      "Skew:                           0.367   Prob(JB):                     6.85e-12\n",
      "Kurtosis:                       2.451   Cond. No.                         30.7\n",
      "==============================================================================\n",
      "\n",
      "Notes:\n",
      "[1] Standard Errors assume that the covariance matrix of the errors is correctly specified.\n",
      "S&P 500 stock prices have a significant impact on Tesla stock prices.\n",
      "NASDAQ stock prices have a significant impact on Tesla stock prices.\n"
     ]
    }
   ],
   "source": [
    "import pandas as pd\n",
    "import statsmodels.api as sm\n",
    "from sklearn.preprocessing import MinMaxScaler\n",
    "\n",
    "# Step 1: Load data\n",
    "tesla_data = pd.read_csv('Clean_data/Cleaned_Tesla_Close.csv', parse_dates=['Date'], index_col='Date')\n",
    "sp500_data = pd.read_csv('Clean_data/Cleaned_SP500_Close.csv', parse_dates=['Date'], index_col='Date')\n",
    "ixic_data = pd.read_csv('Clean_data/Cleaned_IXIC_Close.csv', parse_dates=['Date'], index_col='Date')\n",
    "\n",
    "# Merge datasets\n",
    "merged_data = tesla_data.merge(sp500_data, left_index=True, right_index=True, suffixes=('', '_sp500'))\n",
    "merged_data = merged_data.merge(ixic_data, left_index=True, right_index=True, suffixes=('', '_ixic'))\n",
    "\n",
    "# Step 2: Preprocess data\n",
    "data = merged_data[['Close', 'Close_sp500', 'Close_ixic']]\n",
    "\n",
    "# Normalize the data (MinMaxScaler)\n",
    "scaler = MinMaxScaler()\n",
    "normalized_data = pd.DataFrame(scaler.fit_transform(data), columns=data.columns, index=data.index)\n",
    "\n",
    "# Step 3: Define dependent and independent variables\n",
    "Y = normalized_data['Close']  # Tesla stock price\n",
    "X = normalized_data[['Close_sp500', 'Close_ixic']]  # S&P 500 and NASDAQ stock prices\n",
    "\n",
    "# Add constant for intercept\n",
    "X = sm.add_constant(X)\n",
    "\n",
    "# Step 4: Fit the model\n",
    "model = sm.OLS(Y, X).fit()\n",
    "\n",
    "# Step 5: Output results\n",
    "print(model.summary())\n",
    "\n",
    "# Step 6: Interpret results\n",
    "if model.pvalues['Close_sp500'] < 0.05:\n",
    "    print(\"S&P 500 stock prices have a significant impact on Tesla stock prices.\")\n",
    "else:\n",
    "    print(\"S&P 500 stock prices do not have a significant impact on Tesla stock prices.\")\n",
    "\n",
    "if model.pvalues['Close_ixic'] < 0.05:\n",
    "    print(\"NASDAQ stock prices have a significant impact on Tesla stock prices.\")\n",
    "else:\n",
    "    print(\"NASDAQ stock prices do not have a significant impact on Tesla stock prices.\")\n"
   ]
  },
  {
   "cell_type": "code",
   "execution_count": null,
   "id": "8c5560a4-d8c2-4fcb-ad98-19b193ff36b8",
   "metadata": {},
   "outputs": [],
   "source": []
  }
 ],
 "metadata": {
  "kernelspec": {
   "display_name": "Python 3 (ipykernel)",
   "language": "python",
   "name": "python3"
  },
  "language_info": {
   "codemirror_mode": {
    "name": "ipython",
    "version": 3
   },
   "file_extension": ".py",
   "mimetype": "text/x-python",
   "name": "python",
   "nbconvert_exporter": "python",
   "pygments_lexer": "ipython3",
   "version": "3.12.6"
  }
 },
 "nbformat": 4,
 "nbformat_minor": 5
}
